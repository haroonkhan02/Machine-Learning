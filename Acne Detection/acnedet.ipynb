{
 "cells": [
  {
   "cell_type": "code",
   "execution_count": 1,
   "id": "2f29d146",
   "metadata": {},
   "outputs": [],
   "source": [
    "import tensorflow as tf"
   ]
  },
  {
   "cell_type": "code",
   "execution_count": 7,
   "id": "b9fb2d8b",
   "metadata": {},
   "outputs": [],
   "source": [
    "from PIL import Image, ImageDraw\n",
    "import numpy as np\n",
    "import os"
   ]
  },
  {
   "cell_type": "code",
   "execution_count": 3,
   "id": "f5f96733",
   "metadata": {},
   "outputs": [
    {
     "name": "stdout",
     "output_type": "stream",
     "text": [
      "INFO:tensorflow:Saver not created because there are no variables in the graph to restore\n"
     ]
    }
   ],
   "source": [
    "# Load the model\n",
    "model_path = r'C:\\Users\\Haroon Khan Awan\\faster_rcnn_resnet101_latest\\saved_model'  # Path to the directory containing the .index and .pb files\n",
    "model = tf.saved_model.load(model_path)"
   ]
  },
  {
   "cell_type": "code",
   "execution_count": 4,
   "id": "c08f3464",
   "metadata": {},
   "outputs": [],
   "source": [
    "# Load and preprocess the image\n",
    "image_path = r'C:\\Users\\Haroon Khan Awan\\Dataset_Final\\test\\123123123.JPG'\n",
    "image = Image.open(image_path)\n",
    "desired_size = (224, 224)\n",
    "image = image.resize(desired_size)\n",
    "image_array = np.array(image, dtype=np.uint8)\n",
    "\n",
    "# Convert the image array to a TensorFlow tensor\n",
    "img_tensor = tf.convert_to_tensor(image_array, dtype=tf.uint8)\n",
    "\n",
    "# Add an extra dimension to the tensor to represent batch size (if required)\n",
    "img_tensor = tf.expand_dims(img_tensor, axis=0)\n",
    "\n",
    "# Run the inference\n",
    "infer = model.signatures[\"serving_default\"]\n",
    "detections = infer(img_tensor)"
   ]
  },
  {
   "cell_type": "code",
   "execution_count": 5,
   "id": "306d64af",
   "metadata": {},
   "outputs": [],
   "source": [
    "#Use this if you want to show the image as a popup\n",
    "import cv2\n",
    "\n",
    "# Get the bounding boxes, classes, and scores from the detections\n",
    "boxes = detections['detection_boxes'][0].numpy()\n",
    "classes = detections['detection_classes'][0].numpy().astype(np.int32)\n",
    "scores = detections['detection_scores'][0].numpy()\n",
    "\n",
    "# Draw bounding boxes on the image\n",
    "image_with_boxes = np.copy(image_array)\n",
    "image_with_boxes = cv2.cvtColor(image_with_boxes, cv2.COLOR_RGB2BGR)\n",
    "height, width, _ = image_with_boxes.shape\n",
    "\n",
    "for i, box in enumerate(boxes):\n",
    "    if scores[i] > 0.5:\n",
    "        ymin, xmin, ymax, xmax = box\n",
    "        x1 = int(xmin * width)\n",
    "        y1 = int(ymin * height)\n",
    "        x2 = int(xmax * width)\n",
    "        y2 = int(ymax * height)\n",
    "        cv2.rectangle(image_with_boxes, (x1, y1), (x2, y2), (0, 255, 0), 2)\n",
    "        cv2.putText(image_with_boxes, str(classes[i]), (x1, y1 - 10), cv2.FONT_HERSHEY_SIMPLEX, 0.9, (0, 255, 0), 2)\n",
    "\n",
    "# Display the image with bounding boxes\n",
    "cv2.imshow('Image with Bounding Boxes', image_with_boxes)\n",
    "cv2.waitKey(0)\n",
    "cv2.destroyAllWindows()\n"
   ]
  },
  {
   "cell_type": "code",
   "execution_count": 8,
   "id": "ae60c31f",
   "metadata": {},
   "outputs": [],
   "source": [
    "#Use this if you want to save the original and predicted image\n",
    "\n",
    "# Get the bounding boxes, classes, and scores from the detections\n",
    "boxes = detections['detection_boxes'][0].numpy()\n",
    "classes = detections['detection_classes'][0].numpy().astype(np.int32)\n",
    "scores = detections['detection_scores'][0].numpy()\n",
    "\n",
    "# Draw bounding boxes on the image\n",
    "image_with_boxes = image.copy()\n",
    "draw = ImageDraw.Draw(image_with_boxes)\n",
    "width, height = image_with_boxes.size\n",
    "\n",
    "for i, box in enumerate(boxes):\n",
    "    if scores[i] > 0.5:\n",
    "        ymin, xmin, ymax, xmax = box\n",
    "        x1 = int(xmin * width)\n",
    "        y1 = int(ymin * height)\n",
    "        x2 = int(xmax * width)\n",
    "        y2 = int(ymax * height)\n",
    "        draw.rectangle([(x1, y1), (x2, y2)], outline='green')\n",
    "        draw.text((x1, y1 - 10), str(classes[i]), fill='green')\n",
    "\n",
    "# Save the original image\n",
    "image.save(r'C:\\Users\\Haroon Khan Awan\\Downloads\\Dataset_Final\\original_image.jpg')\n",
    "\n",
    "# Save the image with bounding boxes\n",
    "image_with_boxes.save(r'C:\\Users\\Haroon Khan Awan\\Downloads\\Dataset_Final\\predicted_image.jpg')"
   ]
  },
  {
   "cell_type": "code",
   "execution_count": 12,
   "id": "c4100b70",
   "metadata": {},
   "outputs": [],
   "source": [
    "\n",
    "\n",
    "# Path to the folder containing the images\n",
    "image_folder = r'C:\\Users\\Haroon Khan Awan\\Downloads\\Dataset_Final\\testest'\n",
    "\n",
    "# Path to save the output images\n",
    "output_folder = r'C:\\Users\\Haroon Khan Awan\\Downloads\\Dataset_Final\\testest1'\n",
    "\n",
    "# Create the output folder if it doesn't exist\n",
    "os.makedirs(output_folder, exist_ok=True)\n",
    "\n",
    "# Loop through the images in the folder\n",
    "for filename in os.listdir(image_folder):\n",
    "    if filename.endswith('.jpg') or filename.endswith('.jpeg') or filename.endswith('.png'):\n",
    "        # Load and preprocess the image\n",
    "        image_path = os.path.join(image_folder, filename)\n",
    "        image = Image.open(image_path)\n",
    "        desired_size = (224, 224)\n",
    "        image = image.resize(desired_size)\n",
    "\n",
    "        # Convert the image array to a TensorFlow tensor\n",
    "        img_tensor = tf.convert_to_tensor(np.array(image), dtype=tf.uint8)\n",
    "\n",
    "        # Add an extra dimension to the tensor to represent batch size (if required)\n",
    "        img_tensor = tf.expand_dims(img_tensor, axis=0)\n",
    "\n",
    "        # Run the inference\n",
    "        infer = model.signatures[\"serving_default\"]\n",
    "        detections = infer(img_tensor)\n",
    "\n",
    "        # Process the output detections\n",
    "        # detections contains the predicted bounding boxes, class labels, and confidence scores\n",
    "\n",
    "        # Get the bounding boxes, classes, and scores from the detections\n",
    "        boxes = detections['detection_boxes'][0].numpy()\n",
    "        classes = detections['detection_classes'][0].numpy().astype(np.int32)\n",
    "        scores = detections['detection_scores'][0].numpy()\n",
    "\n",
    "        # Draw bounding boxes on the image\n",
    "        image_with_boxes = image.copy()\n",
    "        draw = ImageDraw.Draw(image_with_boxes)\n",
    "        width, height = image_with_boxes.size\n",
    "\n",
    "        for i, box in enumerate(boxes):\n",
    "            if scores[i] > 0.5:\n",
    "                ymin, xmin, ymax, xmax = box\n",
    "                x1 = int(xmin * width)\n",
    "                y1 = int(ymin * height)\n",
    "                x2 = int(xmax * width)\n",
    "                y2 = int(ymax * height)\n",
    "                draw.rectangle([(x1, y1), (x2, y2)], outline='green')\n",
    "                draw.text((x1, y1 - 10), str(classes[i]), fill='green')\n",
    "\n",
    "        # Save the original and predicted images side by side\n",
    "        output_image_path = os.path.join(output_folder, filename)\n",
    "        side_by_side_image = Image.new('RGB', (2 * desired_size[0], desired_size[1]))\n",
    "        side_by_side_image.paste(image, (0, 0))\n",
    "        side_by_side_image.paste(image_with_boxes, (desired_size[0], 0))\n",
    "        side_by_side_image.save(output_image_path)\n"
   ]
  }
 ],
 "metadata": {
  "kernelspec": {
   "display_name": "Python 3 (ipykernel)",
   "language": "python",
   "name": "python3"
  },
  "language_info": {
   "codemirror_mode": {
    "name": "ipython",
    "version": 3
   },
   "file_extension": ".py",
   "mimetype": "text/x-python",
   "name": "python",
   "nbconvert_exporter": "python",
   "pygments_lexer": "ipython3",
   "version": "3.10.6"
  }
 },
 "nbformat": 4,
 "nbformat_minor": 5
}
