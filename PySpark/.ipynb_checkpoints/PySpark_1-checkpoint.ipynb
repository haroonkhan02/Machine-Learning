{
 "cells": [
  {
   "cell_type": "code",
   "execution_count": 2,
   "id": "ca042757",
   "metadata": {},
   "outputs": [],
   "source": [
    "# install if not in your env already!\n",
    "#!pip install pyspark"
   ]
  },
  {
   "cell_type": "code",
   "execution_count": 3,
   "id": "9687c6ef",
   "metadata": {},
   "outputs": [],
   "source": [
    "# Import pyspark after installation\n",
    "import pyspark as ps"
   ]
  },
  {
   "cell_type": "markdown",
   "id": "0a40d421",
   "metadata": {},
   "source": [
    "The entry point into all functionality in Spark is the 'SparkSession' class. "
   ]
  },
  {
   "cell_type": "code",
   "execution_count": 4,
   "id": "2f22d406",
   "metadata": {},
   "outputs": [],
   "source": [
    "# Creating Spark session \n",
    "from pyspark.sql import SparkSession\n",
    "\n",
    "spark = SparkSession.builder.appName('Practise1').getOrCreate()"
   ]
  },
  {
   "cell_type": "code",
   "execution_count": 5,
   "id": "66d1ebc6",
   "metadata": {},
   "outputs": [
    {
     "data": {
      "text/html": [
       "\n",
       "            <div>\n",
       "                <p><b>SparkSession - in-memory</b></p>\n",
       "                \n",
       "        <div>\n",
       "            <p><b>SparkContext</b></p>\n",
       "\n",
       "            <p><a href=\"http://LAPTOP-IUC7RS76:4040\">Spark UI</a></p>\n",
       "\n",
       "            <dl>\n",
       "              <dt>Version</dt>\n",
       "                <dd><code>v3.4.1</code></dd>\n",
       "              <dt>Master</dt>\n",
       "                <dd><code>local[*]</code></dd>\n",
       "              <dt>AppName</dt>\n",
       "                <dd><code>Practise1</code></dd>\n",
       "            </dl>\n",
       "        </div>\n",
       "        \n",
       "            </div>\n",
       "        "
      ],
      "text/plain": [
       "<pyspark.sql.session.SparkSession at 0x1db1bbb9fc0>"
      ]
     },
     "execution_count": 5,
     "metadata": {},
     "output_type": "execute_result"
    }
   ],
   "source": [
    "# Check if the session has been made successfully\n",
    "spark"
   ]
  },
  {
   "cell_type": "code",
   "execution_count": 9,
   "id": "ab8e2c96",
   "metadata": {},
   "outputs": [],
   "source": [
    "# Let's get our dataset using spark \n",
    "df_spark = spark.read.csv('testset1.csv')"
   ]
  },
  {
   "cell_type": "code",
   "execution_count": 7,
   "id": "d48e545f",
   "metadata": {},
   "outputs": [
    {
     "name": "stdout",
     "output_type": "stream",
     "text": [
      "+------+---+-----------+\n",
      "|   _c0|_c1|        _c2|\n",
      "+------+---+-----------+\n",
      "|  Name|Age|Experiences|\n",
      "|Haroon| 25|          2|\n",
      "|  khan| 26|          3|\n",
      "|  Awan| 27|          4|\n",
      "+------+---+-----------+\n",
      "\n"
     ]
    }
   ],
   "source": [
    "# check the loaded dataframe\n",
    "df_spark = spark.read.csv('testset1.csv').show()"
   ]
  },
  {
   "cell_type": "code",
   "execution_count": 10,
   "id": "223e5b2a",
   "metadata": {},
   "outputs": [
    {
     "data": {
      "text/plain": [
       "Row(_c0='Name', _c1='Age', _c2='Experiences')"
      ]
     },
     "execution_count": 10,
     "metadata": {},
     "output_type": "execute_result"
    }
   ],
   "source": [
    "df_spark.head()"
   ]
  },
  {
   "cell_type": "code",
   "execution_count": 11,
   "id": "3253bc9b",
   "metadata": {},
   "outputs": [],
   "source": [
    "#let's take our first row as the header instead of excel coloumns i.e c0,c1 etc\n",
    "df_spark = spark.read.option('header','true').csv('testset1.csv')"
   ]
  },
  {
   "cell_type": "code",
   "execution_count": 12,
   "id": "3dcb49d0",
   "metadata": {},
   "outputs": [],
   "source": [
    "#only run to check the loaded dataset and then again use it without 'show' method; otherwise the type of dataframe will be 'None'\n",
    "#df_spark = spark.read.option('header','true').csv('testset1.csv').show()"
   ]
  },
  {
   "cell_type": "code",
   "execution_count": 13,
   "id": "59f174d0",
   "metadata": {},
   "outputs": [
    {
     "data": {
      "text/plain": [
       "pyspark.sql.dataframe.DataFrame"
      ]
     },
     "execution_count": 13,
     "metadata": {},
     "output_type": "execute_result"
    }
   ],
   "source": [
    "#check the 'type' of created dataframe\n",
    "type(df_spark)"
   ]
  },
  {
   "cell_type": "code",
   "execution_count": 14,
   "id": "910781fb",
   "metadata": {},
   "outputs": [
    {
     "name": "stdout",
     "output_type": "stream",
     "text": [
      "root\n",
      " |-- Name: string (nullable = true)\n",
      " |-- Age: string (nullable = true)\n",
      " |-- Experiences: string (nullable = true)\n",
      "\n"
     ]
    }
   ],
   "source": [
    "# Print the schema in a tree format\n",
    "df_spark.printSchema()"
   ]
  },
  {
   "cell_type": "code",
   "execution_count": 15,
   "id": "2ce4f940",
   "metadata": {},
   "outputs": [
    {
     "name": "stdout",
     "output_type": "stream",
     "text": [
      "+------+-----------+\n",
      "|  Name|Experiences|\n",
      "+------+-----------+\n",
      "|Haroon|          2|\n",
      "|  khan|          3|\n",
      "|  Awan|          4|\n",
      "+------+-----------+\n",
      "\n"
     ]
    }
   ],
   "source": [
    "#select one or multiple columns by name\n",
    "df_spark.select(['Name','Experiences']).show()"
   ]
  },
  {
   "cell_type": "code",
   "execution_count": 16,
   "id": "db46404c",
   "metadata": {},
   "outputs": [
    {
     "data": {
      "text/plain": [
       "DataFrame[summary: string, Name: string, Age: string, Experiences: string]"
      ]
     },
     "execution_count": 16,
     "metadata": {},
     "output_type": "execute_result"
    }
   ],
   "source": [
    "df_spark.describe()"
   ]
  },
  {
   "cell_type": "code",
   "execution_count": 17,
   "id": "3f875bbd",
   "metadata": {},
   "outputs": [
    {
     "name": "stdout",
     "output_type": "stream",
     "text": [
      "+-------+----+----+-----------+\n",
      "|summary|Name| Age|Experiences|\n",
      "+-------+----+----+-----------+\n",
      "|  count|   3|   3|          3|\n",
      "|   mean|null|26.0|        3.0|\n",
      "| stddev|null| 1.0|        1.0|\n",
      "|    min|Awan|  25|          2|\n",
      "|    max|khan|  27|          4|\n",
      "+-------+----+----+-----------+\n",
      "\n"
     ]
    }
   ],
   "source": [
    "df_spark.describe().show()"
   ]
  },
  {
   "cell_type": "code",
   "execution_count": 18,
   "id": "71537565",
   "metadata": {
    "scrolled": true
   },
   "outputs": [],
   "source": [
    "#Adding a column in the dataframe; you have to reflect it to the dataframe to add it properly by assigning it to the df.\n",
    "df_spark = df_spark.withColumn('Experience after 3 yrs', df_spark['Experiences']+2)"
   ]
  },
  {
   "cell_type": "code",
   "execution_count": 19,
   "id": "5e8afef2",
   "metadata": {},
   "outputs": [
    {
     "name": "stdout",
     "output_type": "stream",
     "text": [
      "+------+---+-----------+----------------------+\n",
      "|  Name|Age|Experiences|Experience after 3 yrs|\n",
      "+------+---+-----------+----------------------+\n",
      "|Haroon| 25|          2|                   4.0|\n",
      "|  khan| 26|          3|                   5.0|\n",
      "|  Awan| 27|          4|                   6.0|\n",
      "+------+---+-----------+----------------------+\n",
      "\n"
     ]
    }
   ],
   "source": [
    "df_spark.show()"
   ]
  },
  {
   "cell_type": "code",
   "execution_count": 20,
   "id": "96253400",
   "metadata": {},
   "outputs": [],
   "source": [
    "# Drop the column\n",
    "df_spark = df_spark.drop('Experience after 3 yrs')"
   ]
  },
  {
   "cell_type": "code",
   "execution_count": 21,
   "id": "4ece088c",
   "metadata": {},
   "outputs": [],
   "source": [
    "# Renaming a column \n",
    "df_spark = df_spark.withColumnRenamed('Age','Ages')"
   ]
  },
  {
   "cell_type": "code",
   "execution_count": 22,
   "id": "b01f70ce",
   "metadata": {},
   "outputs": [
    {
     "name": "stdout",
     "output_type": "stream",
     "text": [
      "+------+----+-----------+\n",
      "|  Name|Ages|Experiences|\n",
      "+------+----+-----------+\n",
      "|Haroon|  25|          2|\n",
      "|  khan|  26|          3|\n",
      "|  Awan|  27|          4|\n",
      "+------+----+-----------+\n",
      "\n"
     ]
    }
   ],
   "source": [
    "df_spark.show()"
   ]
  },
  {
   "cell_type": "code",
   "execution_count": 23,
   "id": "e995cbc3",
   "metadata": {},
   "outputs": [],
   "source": [
    "# Reading another csv\n",
    "df2 = spark.read.csv('testset2.csv',header=True,inferSchema=True)"
   ]
  },
  {
   "cell_type": "code",
   "execution_count": 24,
   "id": "3a9ac027",
   "metadata": {},
   "outputs": [
    {
     "name": "stdout",
     "output_type": "stream",
     "text": [
      "root\n",
      " |-- Name: string (nullable = true)\n",
      " |-- Age: integer (nullable = true)\n",
      " |-- Experience: integer (nullable = true)\n",
      "\n"
     ]
    }
   ],
   "source": [
    "df2.printSchema()"
   ]
  },
  {
   "cell_type": "code",
   "execution_count": 25,
   "id": "2555bc8d",
   "metadata": {},
   "outputs": [
    {
     "name": "stdout",
     "output_type": "stream",
     "text": [
      "+------+----+----------+\n",
      "|  Name| Age|Experience|\n",
      "+------+----+----------+\n",
      "|Haroon|  23|      null|\n",
      "|  khan|  22|         3|\n",
      "|   ali|  25|         2|\n",
      "| ahmad|null|         3|\n",
      "| noman|  27|         2|\n",
      "|  null|  28|         2|\n",
      "| bilal|null|         1|\n",
      "+------+----+----------+\n",
      "\n"
     ]
    }
   ],
   "source": [
    "df2.show()"
   ]
  },
  {
   "cell_type": "code",
   "execution_count": 26,
   "id": "9acd3f06",
   "metadata": {},
   "outputs": [
    {
     "name": "stdout",
     "output_type": "stream",
     "text": [
      "+-----+---+----------+\n",
      "| Name|Age|Experience|\n",
      "+-----+---+----------+\n",
      "| khan| 22|         3|\n",
      "|  ali| 25|         2|\n",
      "|noman| 27|         2|\n",
      "| null| 28|         2|\n",
      "+-----+---+----------+\n",
      "\n"
     ]
    }
   ],
   "source": [
    "#drop null values \n",
    "df2.na.drop(how='any').show()"
   ]
  },
  {
   "cell_type": "code",
   "execution_count": 27,
   "id": "7351a47e",
   "metadata": {},
   "outputs": [
    {
     "name": "stdout",
     "output_type": "stream",
     "text": [
      "+------+---+----------+\n",
      "|  Name|Age|Experience|\n",
      "+------+---+----------+\n",
      "|Haroon| 23|      null|\n",
      "|  khan| 22|         3|\n",
      "|   ali| 25|         2|\n",
      "| noman| 27|         2|\n",
      "|  null| 28|         2|\n",
      "+------+---+----------+\n",
      "\n"
     ]
    }
   ],
   "source": [
    "# Drop nulls focusing on a column using subset; so it will only drop the rows where it finds null in age column\n",
    "df2.na.drop(how=\"any\",subset=['Age']).show()"
   ]
  },
  {
   "cell_type": "code",
   "execution_count": 28,
   "id": "38c28ff7",
   "metadata": {},
   "outputs": [
    {
     "name": "stdout",
     "output_type": "stream",
     "text": [
      "+------+----+----------+\n",
      "|  Name| Age|Experience|\n",
      "+------+----+----------+\n",
      "|Haroon|  23|      null|\n",
      "|  khan|  22|         3|\n",
      "|   ali|  25|         2|\n",
      "| ahmad|null|         3|\n",
      "| noman|  27|         2|\n",
      "|  null|  28|         2|\n",
      "| bilal|null|         1|\n",
      "+------+----+----------+\n",
      "\n"
     ]
    }
   ],
   "source": [
    "# Fill missing value\n",
    "df2.na.fill('Missing value').show()"
   ]
  },
  {
   "cell_type": "code",
   "execution_count": 29,
   "id": "1dd6039c",
   "metadata": {},
   "outputs": [],
   "source": [
    "from pyspark.ml.feature import Imputer\n",
    "\n",
    "imputer = Imputer(\n",
    "    inputCols = ['Age', 'Experience'], \n",
    "    outputCols=[\"{}_imputed\".format(c) for c in ['Age', 'Experience']]\n",
    "    ).setStrategy(\"mean\")"
   ]
  },
  {
   "cell_type": "code",
   "execution_count": 30,
   "id": "ea72a30a",
   "metadata": {},
   "outputs": [
    {
     "name": "stdout",
     "output_type": "stream",
     "text": [
      "+------+----+----------+-----------+------------------+\n",
      "|  Name| Age|Experience|Age_imputed|Experience_imputed|\n",
      "+------+----+----------+-----------+------------------+\n",
      "|Haroon|  23|      null|         23|                 2|\n",
      "|  khan|  22|         3|         22|                 3|\n",
      "|   ali|  25|         2|         25|                 2|\n",
      "| ahmad|null|         3|         25|                 3|\n",
      "| noman|  27|         2|         27|                 2|\n",
      "|  null|  28|         2|         28|                 2|\n",
      "| bilal|null|         1|         25|                 1|\n",
      "+------+----+----------+-----------+------------------+\n",
      "\n"
     ]
    }
   ],
   "source": [
    "# Add imputation cols to dataframe\n",
    "imputer.fit(df2).transform(df2).show()"
   ]
  },
  {
   "cell_type": "code",
   "execution_count": 31,
   "id": "f85f7bbb",
   "metadata": {},
   "outputs": [
    {
     "name": "stdout",
     "output_type": "stream",
     "text": [
      "+------+----+----------+\n",
      "|  Name| Age|Experience|\n",
      "+------+----+----------+\n",
      "|Haroon|  23|      null|\n",
      "|  khan|  22|         3|\n",
      "|   ali|  25|         2|\n",
      "| ahmad|null|         3|\n",
      "| noman|  27|         2|\n",
      "|  null|  28|         2|\n",
      "| bilal|null|         1|\n",
      "+------+----+----------+\n",
      "\n"
     ]
    }
   ],
   "source": [
    "df2.show()"
   ]
  },
  {
   "cell_type": "markdown",
   "id": "6f63eaba",
   "metadata": {},
   "source": [
    "#### Filter Operations"
   ]
  },
  {
   "cell_type": "code",
   "execution_count": 36,
   "id": "582cd2b7",
   "metadata": {},
   "outputs": [],
   "source": [
    "spark1 = SparkSession.builder.appName('Practise2').getOrCreate()"
   ]
  },
  {
   "cell_type": "code",
   "execution_count": 46,
   "id": "7787e082",
   "metadata": {},
   "outputs": [],
   "source": [
    "df3 = spark1.read.csv('testset3.csv', header=True, inferSchema=True)"
   ]
  },
  {
   "cell_type": "code",
   "execution_count": 47,
   "id": "745c8b9c",
   "metadata": {},
   "outputs": [
    {
     "name": "stdout",
     "output_type": "stream",
     "text": [
      "+------+---+------+\n",
      "|  Name|Age|Salary|\n",
      "+------+---+------+\n",
      "|Haroon| 22| 44000|\n",
      "|  khan| 12| 20000|\n",
      "|  awan| 35| 21000|\n",
      "|   ali| 68| 42000|\n",
      "| bilal| 65| 12000|\n",
      "|asghar| 24| 50000|\n",
      "| noman| 50| 74000|\n",
      "| ahmad| 47| 14000|\n",
      "+------+---+------+\n",
      "\n"
     ]
    }
   ],
   "source": [
    "df3.show()"
   ]
  },
  {
   "cell_type": "code",
   "execution_count": 49,
   "id": "6ddbee70",
   "metadata": {},
   "outputs": [
    {
     "name": "stdout",
     "output_type": "stream",
     "text": [
      "+-----+---+------+\n",
      "| Name|Age|Salary|\n",
      "+-----+---+------+\n",
      "| khan| 12| 20000|\n",
      "|bilal| 65| 12000|\n",
      "|ahmad| 47| 14000|\n",
      "+-----+---+------+\n",
      "\n"
     ]
    }
   ],
   "source": [
    "# Salary of people less than or equal to 20k\n",
    "df3.filter(\"Salary<=20000\").show()"
   ]
  },
  {
   "cell_type": "code",
   "execution_count": 54,
   "id": "ed9dddf8",
   "metadata": {},
   "outputs": [
    {
     "name": "stdout",
     "output_type": "stream",
     "text": [
      "+------+---+\n",
      "|  Name|Age|\n",
      "+------+---+\n",
      "|Haroon| 22|\n",
      "|  khan| 12|\n",
      "|  awan| 35|\n",
      "|   ali| 68|\n",
      "|asghar| 24|\n",
      "| noman| 50|\n",
      "+------+---+\n",
      "\n"
     ]
    }
   ],
   "source": [
    "# show selcted columns where the salary is more than 20k\n",
    "df3.filter(df3['Salary']>=20000).select(['Name','Age']).show()"
   ]
  },
  {
   "cell_type": "code",
   "execution_count": 55,
   "id": "4d3dc6d6",
   "metadata": {},
   "outputs": [
    {
     "name": "stdout",
     "output_type": "stream",
     "text": [
      "+------+---+------+\n",
      "|  Name|Age|Salary|\n",
      "+------+---+------+\n",
      "|Haroon| 22| 44000|\n",
      "|  awan| 35| 21000|\n",
      "|   ali| 68| 42000|\n",
      "|asghar| 24| 50000|\n",
      "| noman| 50| 74000|\n",
      "+------+---+------+\n",
      "\n"
     ]
    }
   ],
   "source": [
    "# Using 'Not' operator for our condition\n",
    "df3.filter(~(df3['Salary']<=20000)).show()"
   ]
  },
  {
   "cell_type": "code",
   "execution_count": null,
   "id": "0c7058ff",
   "metadata": {},
   "outputs": [],
   "source": []
  },
  {
   "cell_type": "code",
   "execution_count": null,
   "id": "76d56480",
   "metadata": {},
   "outputs": [],
   "source": []
  },
  {
   "cell_type": "code",
   "execution_count": null,
   "id": "c2d54061",
   "metadata": {},
   "outputs": [],
   "source": []
  },
  {
   "cell_type": "code",
   "execution_count": null,
   "id": "03c7eb7e",
   "metadata": {},
   "outputs": [],
   "source": []
  },
  {
   "cell_type": "code",
   "execution_count": null,
   "id": "3fb229b8",
   "metadata": {},
   "outputs": [],
   "source": []
  },
  {
   "cell_type": "code",
   "execution_count": null,
   "id": "469b6eb4",
   "metadata": {},
   "outputs": [],
   "source": []
  },
  {
   "cell_type": "code",
   "execution_count": null,
   "id": "2a2a6f9c",
   "metadata": {},
   "outputs": [],
   "source": []
  }
 ],
 "metadata": {
  "kernelspec": {
   "display_name": "Python 3 (ipykernel)",
   "language": "python",
   "name": "python3"
  },
  "language_info": {
   "codemirror_mode": {
    "name": "ipython",
    "version": 3
   },
   "file_extension": ".py",
   "mimetype": "text/x-python",
   "name": "python",
   "nbconvert_exporter": "python",
   "pygments_lexer": "ipython3",
   "version": "3.10.6"
  }
 },
 "nbformat": 4,
 "nbformat_minor": 5
}
