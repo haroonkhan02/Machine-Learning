{
 "cells": [
  {
   "cell_type": "code",
   "execution_count": null,
   "id": "ca042757",
   "metadata": {},
   "outputs": [],
   "source": [
    "# install if not in your env already!\n",
    "#!pip install pyspark"
   ]
  },
  {
   "cell_type": "code",
   "execution_count": 2,
   "id": "9687c6ef",
   "metadata": {},
   "outputs": [],
   "source": [
    "# Import pyspark after installation\n",
    "import pyspark as ps"
   ]
  },
  {
   "cell_type": "markdown",
   "id": "0a40d421",
   "metadata": {},
   "source": [
    "The entry point into all functionality in Spark is the 'SparkSession' class. "
   ]
  },
  {
   "cell_type": "code",
   "execution_count": 1,
   "id": "2f22d406",
   "metadata": {},
   "outputs": [],
   "source": [
    "# Creating Spark session \n",
    "from pyspark.sql import SparkSession\n",
    "\n",
    "spark = SparkSession.builder.appName('Practise1').getOrCreate()"
   ]
  },
  {
   "cell_type": "code",
   "execution_count": 2,
   "id": "66d1ebc6",
   "metadata": {},
   "outputs": [
    {
     "data": {
      "text/html": [
       "\n",
       "            <div>\n",
       "                <p><b>SparkSession - in-memory</b></p>\n",
       "                \n",
       "        <div>\n",
       "            <p><b>SparkContext</b></p>\n",
       "\n",
       "            <p><a href=\"http://LAPTOP-IUC7RS76:4040\">Spark UI</a></p>\n",
       "\n",
       "            <dl>\n",
       "              <dt>Version</dt>\n",
       "                <dd><code>v3.4.1</code></dd>\n",
       "              <dt>Master</dt>\n",
       "                <dd><code>local[*]</code></dd>\n",
       "              <dt>AppName</dt>\n",
       "                <dd><code>Practise1</code></dd>\n",
       "            </dl>\n",
       "        </div>\n",
       "        \n",
       "            </div>\n",
       "        "
      ],
      "text/plain": [
       "<pyspark.sql.session.SparkSession at 0x1fb746a59f0>"
      ]
     },
     "execution_count": 2,
     "metadata": {},
     "output_type": "execute_result"
    }
   ],
   "source": [
    "# Check if the session has been made successfully\n",
    "spark"
   ]
  },
  {
   "cell_type": "code",
   "execution_count": 6,
   "id": "ab8e2c96",
   "metadata": {},
   "outputs": [],
   "source": [
    "# Let's get our dataset using spark \n",
    "df_spark = spark.read.csv('testset1.csv')"
   ]
  },
  {
   "cell_type": "code",
   "execution_count": 7,
   "id": "d48e545f",
   "metadata": {},
   "outputs": [
    {
     "name": "stdout",
     "output_type": "stream",
     "text": [
      "+------+---+----------+\n",
      "|   _c0|_c1|       _c2|\n",
      "+------+---+----------+\n",
      "|  Name|Age|Experience|\n",
      "|Haroon| 25|         2|\n",
      "|  khan| 26|         3|\n",
      "|  Awan| 27|         4|\n",
      "+------+---+----------+\n",
      "\n"
     ]
    }
   ],
   "source": [
    "# check the loaded dataframe\n",
    "df_spark = spark.read.csv('testset1.csv').show()"
   ]
  },
  {
   "cell_type": "code",
   "execution_count": 15,
   "id": "3253bc9b",
   "metadata": {},
   "outputs": [],
   "source": [
    "#let's take our first row as the header instead of excel coloumns i.e c0,c1 etc\n",
    "df_spark = spark.read.option('header','true').csv('testset1.csv')"
   ]
  },
  {
   "cell_type": "code",
   "execution_count": 10,
   "id": "3dcb49d0",
   "metadata": {},
   "outputs": [
    {
     "name": "stdout",
     "output_type": "stream",
     "text": [
      "+------+---+----------+\n",
      "|  Name|Age|Experience|\n",
      "+------+---+----------+\n",
      "|Haroon| 25|         2|\n",
      "|  khan| 26|         3|\n",
      "|  Awan| 27|         4|\n",
      "+------+---+----------+\n",
      "\n"
     ]
    }
   ],
   "source": [
    "#only run to check the loaded dataset and then again use it without 'show' method; otherwise the type of dataframe will be 'None'\n",
    "#df_spark = spark.read.option('header','true').csv('testset1.csv').show()"
   ]
  },
  {
   "cell_type": "code",
   "execution_count": 16,
   "id": "59f174d0",
   "metadata": {},
   "outputs": [
    {
     "data": {
      "text/plain": [
       "pyspark.sql.dataframe.DataFrame"
      ]
     },
     "execution_count": 16,
     "metadata": {},
     "output_type": "execute_result"
    }
   ],
   "source": [
    "#check the 'type' of created dataframe\n",
    "type(df_spark)"
   ]
  },
  {
   "cell_type": "code",
   "execution_count": 17,
   "id": "910781fb",
   "metadata": {},
   "outputs": [
    {
     "name": "stdout",
     "output_type": "stream",
     "text": [
      "root\n",
      " |-- Name: string (nullable = true)\n",
      " |-- Age: string (nullable = true)\n",
      " |-- Experience: string (nullable = true)\n",
      "\n"
     ]
    }
   ],
   "source": [
    "# Print the schema in a tree format\n",
    "df_spark.printSchema()"
   ]
  },
  {
   "cell_type": "code",
   "execution_count": null,
   "id": "2ce4f940",
   "metadata": {},
   "outputs": [],
   "source": []
  },
  {
   "cell_type": "code",
   "execution_count": null,
   "id": "db46404c",
   "metadata": {},
   "outputs": [],
   "source": []
  }
 ],
 "metadata": {
  "kernelspec": {
   "display_name": "Python 3 (ipykernel)",
   "language": "python",
   "name": "python3"
  },
  "language_info": {
   "codemirror_mode": {
    "name": "ipython",
    "version": 3
   },
   "file_extension": ".py",
   "mimetype": "text/x-python",
   "name": "python",
   "nbconvert_exporter": "python",
   "pygments_lexer": "ipython3",
   "version": "3.10.6"
  }
 },
 "nbformat": 4,
 "nbformat_minor": 5
}
