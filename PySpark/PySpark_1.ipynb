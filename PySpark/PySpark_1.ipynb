{
 "cells": [
  {
   "cell_type": "code",
   "execution_count": null,
   "id": "ca042757",
   "metadata": {},
   "outputs": [],
   "source": [
    "# install if not in your env already!\n",
    "#!pip install pyspark"
   ]
  },
  {
   "cell_type": "code",
   "execution_count": 2,
   "id": "9687c6ef",
   "metadata": {},
   "outputs": [],
   "source": [
    "# Import pyspark after installation\n",
    "import pyspark as ps"
   ]
  },
  {
   "cell_type": "markdown",
   "id": "0a40d421",
   "metadata": {},
   "source": [
    "The entry point into all functionality in Spark is the 'SparkSession' class. "
   ]
  },
  {
   "cell_type": "code",
   "execution_count": 3,
   "id": "2f22d406",
   "metadata": {},
   "outputs": [],
   "source": [
    "# Creating Spark session \n",
    "from pyspark.sql import SparkSession\n",
    "\n",
    "spark = SparkSession.builder.appName('Practise1').getOrCreate()"
   ]
  },
  {
   "cell_type": "code",
   "execution_count": 4,
   "id": "66d1ebc6",
   "metadata": {},
   "outputs": [
    {
     "data": {
      "text/html": [
       "\n",
       "            <div>\n",
       "                <p><b>SparkSession - in-memory</b></p>\n",
       "                \n",
       "        <div>\n",
       "            <p><b>SparkContext</b></p>\n",
       "\n",
       "            <p><a href=\"http://LAPTOP-IUC7RS76:4040\">Spark UI</a></p>\n",
       "\n",
       "            <dl>\n",
       "              <dt>Version</dt>\n",
       "                <dd><code>v3.4.1</code></dd>\n",
       "              <dt>Master</dt>\n",
       "                <dd><code>local[*]</code></dd>\n",
       "              <dt>AppName</dt>\n",
       "                <dd><code>Practise1</code></dd>\n",
       "            </dl>\n",
       "        </div>\n",
       "        \n",
       "            </div>\n",
       "        "
      ],
      "text/plain": [
       "<pyspark.sql.session.SparkSession at 0x2d87f57d7b0>"
      ]
     },
     "execution_count": 4,
     "metadata": {},
     "output_type": "execute_result"
    }
   ],
   "source": [
    "# Check if the session has been made successfully\n",
    "spark"
   ]
  },
  {
   "cell_type": "code",
   "execution_count": 5,
   "id": "ab8e2c96",
   "metadata": {},
   "outputs": [],
   "source": [
    "# Let's get our dataset using spark \n",
    "df_spark = spark.read.csv('testset1.csv')"
   ]
  },
  {
   "cell_type": "code",
   "execution_count": 6,
   "id": "d48e545f",
   "metadata": {},
   "outputs": [
    {
     "name": "stdout",
     "output_type": "stream",
     "text": [
      "+------+---+----------+\n",
      "|   _c0|_c1|       _c2|\n",
      "+------+---+----------+\n",
      "|  Name|Age|Experience|\n",
      "|Haroon| 25|         2|\n",
      "|  khan| 26|         3|\n",
      "|  Awan| 27|         4|\n",
      "+------+---+----------+\n",
      "\n"
     ]
    }
   ],
   "source": [
    "# check the loaded dataframe\n",
    "df_spark = spark.read.csv('testset1.csv').show()"
   ]
  },
  {
   "cell_type": "code",
   "execution_count": 16,
   "id": "ab3972d8",
   "metadata": {},
   "outputs": [
    {
     "data": {
      "text/plain": [
       "Row(Name='Haroon', Age='25', Experience='2')"
      ]
     },
     "execution_count": 16,
     "metadata": {},
     "output_type": "execute_result"
    }
   ],
   "source": [
    "df_spark.head()"
   ]
  },
  {
   "cell_type": "code",
   "execution_count": 7,
   "id": "3253bc9b",
   "metadata": {},
   "outputs": [],
   "source": [
    "#let's take our first row as the header instead of excel coloumns i.e c0,c1 etc\n",
    "df_spark = spark.read.option('header','true').csv('testset1.csv')"
   ]
  },
  {
   "cell_type": "code",
   "execution_count": 8,
   "id": "3dcb49d0",
   "metadata": {},
   "outputs": [],
   "source": [
    "#only run to check the loaded dataset and then again use it without 'show' method; otherwise the type of dataframe will be 'None'\n",
    "#df_spark = spark.read.option('header','true').csv('testset1.csv').show()"
   ]
  },
  {
   "cell_type": "code",
   "execution_count": 9,
   "id": "59f174d0",
   "metadata": {},
   "outputs": [
    {
     "data": {
      "text/plain": [
       "pyspark.sql.dataframe.DataFrame"
      ]
     },
     "execution_count": 9,
     "metadata": {},
     "output_type": "execute_result"
    }
   ],
   "source": [
    "#check the 'type' of created dataframe\n",
    "type(df_spark)"
   ]
  },
  {
   "cell_type": "code",
   "execution_count": 10,
   "id": "910781fb",
   "metadata": {},
   "outputs": [
    {
     "name": "stdout",
     "output_type": "stream",
     "text": [
      "root\n",
      " |-- Name: string (nullable = true)\n",
      " |-- Age: string (nullable = true)\n",
      " |-- Experience: string (nullable = true)\n",
      "\n"
     ]
    }
   ],
   "source": [
    "# Print the schema in a tree format\n",
    "df_spark.printSchema()"
   ]
  },
  {
   "cell_type": "code",
   "execution_count": 14,
   "id": "2ce4f940",
   "metadata": {},
   "outputs": [
    {
     "name": "stdout",
     "output_type": "stream",
     "text": [
      "+------+----------+\n",
      "|  Name|Experience|\n",
      "+------+----------+\n",
      "|Haroon|         2|\n",
      "|  khan|         3|\n",
      "|  Awan|         4|\n",
      "+------+----------+\n",
      "\n"
     ]
    }
   ],
   "source": [
    "#select one or multiple columns by name\n",
    "df_spark.select(['Name','Experience']).show()"
   ]
  },
  {
   "cell_type": "code",
   "execution_count": 24,
   "id": "db46404c",
   "metadata": {},
   "outputs": [
    {
     "data": {
      "text/plain": [
       "DataFrame[summary: string, Name: string, Age: string, Experience: string]"
      ]
     },
     "execution_count": 24,
     "metadata": {},
     "output_type": "execute_result"
    }
   ],
   "source": [
    "df_spark.describe()"
   ]
  },
  {
   "cell_type": "code",
   "execution_count": 25,
   "id": "1e30d6c8",
   "metadata": {},
   "outputs": [
    {
     "name": "stdout",
     "output_type": "stream",
     "text": [
      "+-------+----+----+----------+\n",
      "|summary|Name| Age|Experience|\n",
      "+-------+----+----+----------+\n",
      "|  count|   3|   3|         3|\n",
      "|   mean|null|26.0|       3.0|\n",
      "| stddev|null| 1.0|       1.0|\n",
      "|    min|Awan|  25|         2|\n",
      "|    max|khan|  27|         4|\n",
      "+-------+----+----+----------+\n",
      "\n"
     ]
    }
   ],
   "source": [
    "df_spark.describe().show()"
   ]
  },
  {
   "cell_type": "code",
   "execution_count": 20,
   "id": "55d9799d",
   "metadata": {
    "scrolled": true
   },
   "outputs": [],
   "source": [
    "#Adding a column in the dataframe; you have to reflect it to the dataframe to add it properly by assigning it to the df.\n",
    "df_spark = df_spark.withColumn('Experience after 3 yrs', df_spark['Experience']+2)"
   ]
  },
  {
   "cell_type": "code",
   "execution_count": 21,
   "id": "c95192fb",
   "metadata": {},
   "outputs": [
    {
     "name": "stdout",
     "output_type": "stream",
     "text": [
      "+------+---+----------+----------------------+\n",
      "|  Name|Age|Experience|Experience after 3 yrs|\n",
      "+------+---+----------+----------------------+\n",
      "|Haroon| 25|         2|                   4.0|\n",
      "|  khan| 26|         3|                   5.0|\n",
      "|  Awan| 27|         4|                   6.0|\n",
      "+------+---+----------+----------------------+\n",
      "\n"
     ]
    }
   ],
   "source": [
    "df_spark.show()"
   ]
  },
  {
   "cell_type": "code",
   "execution_count": 22,
   "id": "3590299c",
   "metadata": {},
   "outputs": [],
   "source": [
    "# Drop the column\n",
    "df_spark = df_spark.drop('Experience after 3 yrs')"
   ]
  },
  {
   "cell_type": "code",
   "execution_count": 28,
   "id": "c3f6e8b1",
   "metadata": {},
   "outputs": [],
   "source": [
    "# Renaming a column \n",
    "df_spark = df_spark.withColumnRenamed('Age','Ages')"
   ]
  },
  {
   "cell_type": "code",
   "execution_count": 29,
   "id": "ae70b92b",
   "metadata": {},
   "outputs": [
    {
     "name": "stdout",
     "output_type": "stream",
     "text": [
      "+------+----+----------+\n",
      "|  Name|Ages|Experience|\n",
      "+------+----+----------+\n",
      "|Haroon|  25|         2|\n",
      "|  khan|  26|         3|\n",
      "|  Awan|  27|         4|\n",
      "+------+----+----------+\n",
      "\n"
     ]
    }
   ],
   "source": [
    "df_spark.show()"
   ]
  },
  {
   "cell_type": "code",
   "execution_count": 31,
   "id": "5a39f62d",
   "metadata": {},
   "outputs": [],
   "source": [
    "# Reading another csv\n",
    "df2 = spark.read.csv('testset2.csv',header=True,inferSchema=True)"
   ]
  },
  {
   "cell_type": "code",
   "execution_count": 37,
   "id": "8d0231e3",
   "metadata": {},
   "outputs": [
    {
     "name": "stdout",
     "output_type": "stream",
     "text": [
      "root\n",
      " |-- Name: string (nullable = true)\n",
      " |-- Age: string (nullable = true)\n",
      " |-- Experience: string (nullable = true)\n",
      "\n"
     ]
    }
   ],
   "source": [
    "df2.printSchema()"
   ]
  },
  {
   "cell_type": "code",
   "execution_count": 38,
   "id": "8b72f86d",
   "metadata": {},
   "outputs": [
    {
     "name": "stdout",
     "output_type": "stream",
     "text": [
      "+------+----+----------+\n",
      "|  Name| Age|Experience|\n",
      "+------+----+----------+\n",
      "|Haroon|  23|      null|\n",
      "|  khan|  22|         3|\n",
      "|   ali|  25|         2|\n",
      "| ahmad|null|         3|\n",
      "| noman|  27|         2|\n",
      "|  null|  28|         2|\n",
      "| bilal|null|         1|\n",
      "+------+----+----------+\n",
      "\n"
     ]
    }
   ],
   "source": [
    "df2.show()"
   ]
  },
  {
   "cell_type": "code",
   "execution_count": 40,
   "id": "683e8cbb",
   "metadata": {},
   "outputs": [
    {
     "name": "stdout",
     "output_type": "stream",
     "text": [
      "+-----+---+----------+\n",
      "| Name|Age|Experience|\n",
      "+-----+---+----------+\n",
      "| khan| 22|         3|\n",
      "|  ali| 25|         2|\n",
      "|noman| 27|         2|\n",
      "| null| 28|         2|\n",
      "+-----+---+----------+\n",
      "\n"
     ]
    }
   ],
   "source": [
    "#drop null values \n",
    "df2.na.drop(how='any').show()"
   ]
  },
  {
   "cell_type": "code",
   "execution_count": 41,
   "id": "1a82c24f",
   "metadata": {},
   "outputs": [
    {
     "name": "stdout",
     "output_type": "stream",
     "text": [
      "+------+---+----------+\n",
      "|  Name|Age|Experience|\n",
      "+------+---+----------+\n",
      "|Haroon| 23|      null|\n",
      "|  khan| 22|         3|\n",
      "|   ali| 25|         2|\n",
      "| noman| 27|         2|\n",
      "|  null| 28|         2|\n",
      "+------+---+----------+\n",
      "\n"
     ]
    }
   ],
   "source": [
    "# Drop nulls focusing on a column using subset; so it will only drop the rows where it finds null in age column\n",
    "df2.na.drop(how=\"any\",subset=['Age']).show()"
   ]
  },
  {
   "cell_type": "code",
   "execution_count": 48,
   "id": "39d49506",
   "metadata": {},
   "outputs": [
    {
     "name": "stdout",
     "output_type": "stream",
     "text": [
      "+------+-------------+-------------+\n",
      "|  Name|          Age|   Experience|\n",
      "+------+-------------+-------------+\n",
      "|Haroon|           23|Missing value|\n",
      "|  khan|           22|            3|\n",
      "|   ali|           25|            2|\n",
      "| ahmad|Missing value|            3|\n",
      "| noman|           27|            2|\n",
      "|  null|           28|            2|\n",
      "| bilal|Missing value|            1|\n",
      "+------+-------------+-------------+\n",
      "\n"
     ]
    }
   ],
   "source": [
    "# Fill missing value\n",
    "df2.na.fill('Missing value').show()"
   ]
  },
  {
   "cell_type": "code",
   "execution_count": null,
   "id": "a81d7136",
   "metadata": {},
   "outputs": [],
   "source": []
  },
  {
   "cell_type": "code",
   "execution_count": null,
   "id": "88e75298",
   "metadata": {},
   "outputs": [],
   "source": []
  },
  {
   "cell_type": "code",
   "execution_count": null,
   "id": "b2ae3ad9",
   "metadata": {},
   "outputs": [],
   "source": []
  }
 ],
 "metadata": {
  "kernelspec": {
   "display_name": "Python 3 (ipykernel)",
   "language": "python",
   "name": "python3"
  },
  "language_info": {
   "codemirror_mode": {
    "name": "ipython",
    "version": 3
   },
   "file_extension": ".py",
   "mimetype": "text/x-python",
   "name": "python",
   "nbconvert_exporter": "python",
   "pygments_lexer": "ipython3",
   "version": "3.10.6"
  }
 },
 "nbformat": 4,
 "nbformat_minor": 5
}
