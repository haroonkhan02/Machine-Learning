{
 "cells": [
  {
   "cell_type": "markdown",
   "metadata": {
    "application/vnd.databricks.v1+cell": {
     "cellMetadata": {},
     "inputWidgets": {},
     "nuid": "387c928a-44f1-41d9-bc7e-3cfec3445122",
     "showTitle": false,
     "title": ""
    }
   },
   "source": [
    "## DataBricks PySpark HandsOn with Clusters"
   ]
  },
  {
   "cell_type": "code",
   "execution_count": 0,
   "metadata": {
    "application/vnd.databricks.v1+cell": {
     "cellMetadata": {
      "byteLimit": 2048000,
      "rowLimit": 10000
     },
     "inputWidgets": {},
     "nuid": "4d095d15-0de1-49f0-9b63-cae9ce92a152",
     "showTitle": false,
     "title": ""
    }
   },
   "outputs": [],
   "source": [
    "# File location and type\n",
    "file_location = \"/FileStore/tables/testset5.csv\"\n",
    "file_type = \"csv\""
   ]
  },
  {
   "cell_type": "code",
   "execution_count": 0,
   "metadata": {
    "application/vnd.databricks.v1+cell": {
     "cellMetadata": {
      "byteLimit": 2048000,
      "rowLimit": 10000
     },
     "inputWidgets": {},
     "nuid": "3381dce0-ce23-4ea4-866f-5b2aeaf1beb9",
     "showTitle": false,
     "title": ""
    }
   },
   "outputs": [
    {
     "output_type": "display_data",
     "data": {
      "text/html": [
       "<style scoped>\n",
       "  .table-result-container {\n",
       "    max-height: 300px;\n",
       "    overflow: auto;\n",
       "  }\n",
       "  table, th, td {\n",
       "    border: 1px solid black;\n",
       "    border-collapse: collapse;\n",
       "  }\n",
       "  th, td {\n",
       "    padding: 5px;\n",
       "  }\n",
       "  th {\n",
       "    text-align: left;\n",
       "  }\n",
       "</style><div class='table-result-container'><table class='table-result'><thead style='background-color: white'><tr><th>total_bill</th><th>tip</th><th>sex</th><th>smoker</th><th>day</th><th>time</th><th>size</th></tr></thead><tbody><tr><td>16.99</td><td>1.01</td><td>Female</td><td>No</td><td>Sun</td><td>Dinner</td><td>2</td></tr><tr><td>10.34</td><td>1.66</td><td>Male</td><td>No</td><td>Sun</td><td>Dinner</td><td>3</td></tr><tr><td>21.01</td><td>3.5</td><td>Male</td><td>No</td><td>Sun</td><td>Dinner</td><td>3</td></tr><tr><td>23.68</td><td>3.31</td><td>Male</td><td>No</td><td>Sun</td><td>Dinner</td><td>2</td></tr><tr><td>24.59</td><td>3.61</td><td>Female</td><td>No</td><td>Sun</td><td>Dinner</td><td>4</td></tr><tr><td>25.29</td><td>4.71</td><td>Male</td><td>No</td><td>Sun</td><td>Dinner</td><td>4</td></tr><tr><td>8.77</td><td>2.0</td><td>Male</td><td>No</td><td>Sun</td><td>Dinner</td><td>2</td></tr><tr><td>26.88</td><td>3.12</td><td>Male</td><td>No</td><td>Sun</td><td>Dinner</td><td>4</td></tr><tr><td>15.04</td><td>1.96</td><td>Male</td><td>No</td><td>Sun</td><td>Dinner</td><td>2</td></tr><tr><td>14.78</td><td>3.23</td><td>Male</td><td>No</td><td>Sun</td><td>Dinner</td><td>2</td></tr><tr><td>10.27</td><td>1.71</td><td>Male</td><td>No</td><td>Sun</td><td>Dinner</td><td>2</td></tr><tr><td>35.26</td><td>5.0</td><td>Female</td><td>No</td><td>Sun</td><td>Dinner</td><td>4</td></tr><tr><td>15.42</td><td>1.57</td><td>Male</td><td>No</td><td>Sun</td><td>Dinner</td><td>2</td></tr><tr><td>18.43</td><td>3.0</td><td>Male</td><td>No</td><td>Sun</td><td>Dinner</td><td>4</td></tr><tr><td>14.83</td><td>3.02</td><td>Female</td><td>No</td><td>Sun</td><td>Dinner</td><td>2</td></tr><tr><td>21.58</td><td>3.92</td><td>Male</td><td>No</td><td>Sun</td><td>Dinner</td><td>2</td></tr><tr><td>10.33</td><td>1.67</td><td>Female</td><td>No</td><td>Sun</td><td>Dinner</td><td>3</td></tr><tr><td>16.29</td><td>3.71</td><td>Male</td><td>No</td><td>Sun</td><td>Dinner</td><td>3</td></tr><tr><td>16.97</td><td>3.5</td><td>Female</td><td>No</td><td>Sun</td><td>Dinner</td><td>3</td></tr><tr><td>20.65</td><td>3.35</td><td>Male</td><td>No</td><td>Sat</td><td>Dinner</td><td>3</td></tr><tr><td>17.92</td><td>4.08</td><td>Male</td><td>No</td><td>Sat</td><td>Dinner</td><td>2</td></tr><tr><td>20.29</td><td>2.75</td><td>Female</td><td>No</td><td>Sat</td><td>Dinner</td><td>2</td></tr><tr><td>15.77</td><td>2.23</td><td>Female</td><td>No</td><td>Sat</td><td>Dinner</td><td>2</td></tr><tr><td>39.42</td><td>7.58</td><td>Male</td><td>No</td><td>Sat</td><td>Dinner</td><td>4</td></tr><tr><td>19.82</td><td>3.18</td><td>Male</td><td>No</td><td>Sat</td><td>Dinner</td><td>2</td></tr><tr><td>17.81</td><td>2.34</td><td>Male</td><td>No</td><td>Sat</td><td>Dinner</td><td>4</td></tr><tr><td>13.37</td><td>2.0</td><td>Male</td><td>No</td><td>Sat</td><td>Dinner</td><td>2</td></tr><tr><td>12.69</td><td>2.0</td><td>Male</td><td>No</td><td>Sat</td><td>Dinner</td><td>2</td></tr><tr><td>21.7</td><td>4.3</td><td>Male</td><td>No</td><td>Sat</td><td>Dinner</td><td>2</td></tr><tr><td>19.65</td><td>3.0</td><td>Female</td><td>No</td><td>Sat</td><td>Dinner</td><td>2</td></tr><tr><td>9.55</td><td>1.45</td><td>Male</td><td>No</td><td>Sat</td><td>Dinner</td><td>2</td></tr><tr><td>18.35</td><td>2.5</td><td>Male</td><td>No</td><td>Sat</td><td>Dinner</td><td>4</td></tr><tr><td>15.06</td><td>3.0</td><td>Female</td><td>No</td><td>Sat</td><td>Dinner</td><td>2</td></tr><tr><td>20.69</td><td>2.45</td><td>Female</td><td>No</td><td>Sat</td><td>Dinner</td><td>4</td></tr><tr><td>17.78</td><td>3.27</td><td>Male</td><td>No</td><td>Sat</td><td>Dinner</td><td>2</td></tr><tr><td>24.06</td><td>3.6</td><td>Male</td><td>No</td><td>Sat</td><td>Dinner</td><td>3</td></tr><tr><td>16.31</td><td>2.0</td><td>Male</td><td>No</td><td>Sat</td><td>Dinner</td><td>3</td></tr><tr><td>16.93</td><td>3.07</td><td>Female</td><td>No</td><td>Sat</td><td>Dinner</td><td>3</td></tr><tr><td>18.69</td><td>2.31</td><td>Male</td><td>No</td><td>Sat</td><td>Dinner</td><td>3</td></tr><tr><td>31.27</td><td>5.0</td><td>Male</td><td>No</td><td>Sat</td><td>Dinner</td><td>3</td></tr><tr><td>16.04</td><td>2.24</td><td>Male</td><td>No</td><td>Sat</td><td>Dinner</td><td>3</td></tr><tr><td>17.46</td><td>2.54</td><td>Male</td><td>No</td><td>Sun</td><td>Dinner</td><td>2</td></tr><tr><td>13.94</td><td>3.06</td><td>Male</td><td>No</td><td>Sun</td><td>Dinner</td><td>2</td></tr><tr><td>9.68</td><td>1.32</td><td>Male</td><td>No</td><td>Sun</td><td>Dinner</td><td>2</td></tr><tr><td>30.4</td><td>5.6</td><td>Male</td><td>No</td><td>Sun</td><td>Dinner</td><td>4</td></tr><tr><td>18.29</td><td>3.0</td><td>Male</td><td>No</td><td>Sun</td><td>Dinner</td><td>2</td></tr><tr><td>22.23</td><td>5.0</td><td>Male</td><td>No</td><td>Sun</td><td>Dinner</td><td>2</td></tr><tr><td>32.4</td><td>6.0</td><td>Male</td><td>No</td><td>Sun</td><td>Dinner</td><td>4</td></tr><tr><td>28.55</td><td>2.05</td><td>Male</td><td>No</td><td>Sun</td><td>Dinner</td><td>3</td></tr><tr><td>18.04</td><td>3.0</td><td>Male</td><td>No</td><td>Sun</td><td>Dinner</td><td>2</td></tr><tr><td>12.54</td><td>2.5</td><td>Male</td><td>No</td><td>Sun</td><td>Dinner</td><td>2</td></tr><tr><td>10.29</td><td>2.6</td><td>Female</td><td>No</td><td>Sun</td><td>Dinner</td><td>2</td></tr><tr><td>34.81</td><td>5.2</td><td>Female</td><td>No</td><td>Sun</td><td>Dinner</td><td>4</td></tr><tr><td>9.94</td><td>1.56</td><td>Male</td><td>No</td><td>Sun</td><td>Dinner</td><td>2</td></tr><tr><td>25.56</td><td>4.34</td><td>Male</td><td>No</td><td>Sun</td><td>Dinner</td><td>4</td></tr><tr><td>19.49</td><td>3.51</td><td>Male</td><td>No</td><td>Sun</td><td>Dinner</td><td>2</td></tr><tr><td>38.01</td><td>3.0</td><td>Male</td><td>Yes</td><td>Sat</td><td>Dinner</td><td>4</td></tr><tr><td>26.41</td><td>1.5</td><td>Female</td><td>No</td><td>Sat</td><td>Dinner</td><td>2</td></tr><tr><td>11.24</td><td>1.76</td><td>Male</td><td>Yes</td><td>Sat</td><td>Dinner</td><td>2</td></tr><tr><td>48.27</td><td>6.73</td><td>Male</td><td>No</td><td>Sat</td><td>Dinner</td><td>4</td></tr><tr><td>20.29</td><td>3.21</td><td>Male</td><td>Yes</td><td>Sat</td><td>Dinner</td><td>2</td></tr><tr><td>13.81</td><td>2.0</td><td>Male</td><td>Yes</td><td>Sat</td><td>Dinner</td><td>2</td></tr><tr><td>11.02</td><td>1.98</td><td>Male</td><td>Yes</td><td>Sat</td><td>Dinner</td><td>2</td></tr><tr><td>18.29</td><td>3.76</td><td>Male</td><td>Yes</td><td>Sat</td><td>Dinner</td><td>4</td></tr><tr><td>17.59</td><td>2.64</td><td>Male</td><td>No</td><td>Sat</td><td>Dinner</td><td>3</td></tr><tr><td>20.08</td><td>3.15</td><td>Male</td><td>No</td><td>Sat</td><td>Dinner</td><td>3</td></tr><tr><td>16.45</td><td>2.47</td><td>Female</td><td>No</td><td>Sat</td><td>Dinner</td><td>2</td></tr><tr><td>3.07</td><td>1.0</td><td>Female</td><td>Yes</td><td>Sat</td><td>Dinner</td><td>1</td></tr><tr><td>20.23</td><td>2.01</td><td>Male</td><td>No</td><td>Sat</td><td>Dinner</td><td>2</td></tr><tr><td>15.01</td><td>2.09</td><td>Male</td><td>Yes</td><td>Sat</td><td>Dinner</td><td>2</td></tr><tr><td>12.02</td><td>1.97</td><td>Male</td><td>No</td><td>Sat</td><td>Dinner</td><td>2</td></tr><tr><td>17.07</td><td>3.0</td><td>Female</td><td>No</td><td>Sat</td><td>Dinner</td><td>3</td></tr><tr><td>26.86</td><td>3.14</td><td>Female</td><td>Yes</td><td>Sat</td><td>Dinner</td><td>2</td></tr><tr><td>25.28</td><td>5.0</td><td>Female</td><td>Yes</td><td>Sat</td><td>Dinner</td><td>2</td></tr><tr><td>14.73</td><td>2.2</td><td>Female</td><td>No</td><td>Sat</td><td>Dinner</td><td>2</td></tr><tr><td>10.51</td><td>1.25</td><td>Male</td><td>No</td><td>Sat</td><td>Dinner</td><td>2</td></tr><tr><td>17.92</td><td>3.08</td><td>Male</td><td>Yes</td><td>Sat</td><td>Dinner</td><td>2</td></tr><tr><td>27.2</td><td>4.0</td><td>Male</td><td>No</td><td>Thur</td><td>Lunch</td><td>4</td></tr><tr><td>22.76</td><td>3.0</td><td>Male</td><td>No</td><td>Thur</td><td>Lunch</td><td>2</td></tr><tr><td>17.29</td><td>2.71</td><td>Male</td><td>No</td><td>Thur</td><td>Lunch</td><td>2</td></tr><tr><td>19.44</td><td>3.0</td><td>Male</td><td>Yes</td><td>Thur</td><td>Lunch</td><td>2</td></tr><tr><td>16.66</td><td>3.4</td><td>Male</td><td>No</td><td>Thur</td><td>Lunch</td><td>2</td></tr><tr><td>10.07</td><td>1.83</td><td>Female</td><td>No</td><td>Thur</td><td>Lunch</td><td>1</td></tr><tr><td>32.68</td><td>5.0</td><td>Male</td><td>Yes</td><td>Thur</td><td>Lunch</td><td>2</td></tr><tr><td>15.98</td><td>2.03</td><td>Male</td><td>No</td><td>Thur</td><td>Lunch</td><td>2</td></tr><tr><td>34.83</td><td>5.17</td><td>Female</td><td>No</td><td>Thur</td><td>Lunch</td><td>4</td></tr><tr><td>13.03</td><td>2.0</td><td>Male</td><td>No</td><td>Thur</td><td>Lunch</td><td>2</td></tr><tr><td>18.28</td><td>4.0</td><td>Male</td><td>No</td><td>Thur</td><td>Lunch</td><td>2</td></tr><tr><td>24.71</td><td>5.85</td><td>Male</td><td>No</td><td>Thur</td><td>Lunch</td><td>2</td></tr><tr><td>21.16</td><td>3.0</td><td>Male</td><td>No</td><td>Thur</td><td>Lunch</td><td>2</td></tr><tr><td>28.97</td><td>3.0</td><td>Male</td><td>Yes</td><td>Fri</td><td>Dinner</td><td>2</td></tr><tr><td>22.49</td><td>3.5</td><td>Male</td><td>No</td><td>Fri</td><td>Dinner</td><td>2</td></tr><tr><td>5.75</td><td>1.0</td><td>Female</td><td>Yes</td><td>Fri</td><td>Dinner</td><td>2</td></tr><tr><td>16.32</td><td>4.3</td><td>Female</td><td>Yes</td><td>Fri</td><td>Dinner</td><td>2</td></tr><tr><td>22.75</td><td>3.25</td><td>Female</td><td>No</td><td>Fri</td><td>Dinner</td><td>2</td></tr><tr><td>40.17</td><td>4.73</td><td>Male</td><td>Yes</td><td>Fri</td><td>Dinner</td><td>4</td></tr><tr><td>27.28</td><td>4.0</td><td>Male</td><td>Yes</td><td>Fri</td><td>Dinner</td><td>2</td></tr><tr><td>12.03</td><td>1.5</td><td>Male</td><td>Yes</td><td>Fri</td><td>Dinner</td><td>2</td></tr><tr><td>21.01</td><td>3.0</td><td>Male</td><td>Yes</td><td>Fri</td><td>Dinner</td><td>2</td></tr><tr><td>12.46</td><td>1.5</td><td>Male</td><td>No</td><td>Fri</td><td>Dinner</td><td>2</td></tr><tr><td>11.35</td><td>2.5</td><td>Female</td><td>Yes</td><td>Fri</td><td>Dinner</td><td>2</td></tr><tr><td>15.38</td><td>3.0</td><td>Female</td><td>Yes</td><td>Fri</td><td>Dinner</td><td>2</td></tr><tr><td>44.3</td><td>2.5</td><td>Female</td><td>Yes</td><td>Sat</td><td>Dinner</td><td>3</td></tr><tr><td>22.42</td><td>3.48</td><td>Female</td><td>Yes</td><td>Sat</td><td>Dinner</td><td>2</td></tr><tr><td>20.92</td><td>4.08</td><td>Female</td><td>No</td><td>Sat</td><td>Dinner</td><td>2</td></tr><tr><td>15.36</td><td>1.64</td><td>Male</td><td>Yes</td><td>Sat</td><td>Dinner</td><td>2</td></tr><tr><td>20.49</td><td>4.06</td><td>Male</td><td>Yes</td><td>Sat</td><td>Dinner</td><td>2</td></tr><tr><td>25.21</td><td>4.29</td><td>Male</td><td>Yes</td><td>Sat</td><td>Dinner</td><td>2</td></tr><tr><td>18.24</td><td>3.76</td><td>Male</td><td>No</td><td>Sat</td><td>Dinner</td><td>2</td></tr><tr><td>14.31</td><td>4.0</td><td>Female</td><td>Yes</td><td>Sat</td><td>Dinner</td><td>2</td></tr><tr><td>14.0</td><td>3.0</td><td>Male</td><td>No</td><td>Sat</td><td>Dinner</td><td>2</td></tr><tr><td>7.25</td><td>1.0</td><td>Female</td><td>No</td><td>Sat</td><td>Dinner</td><td>1</td></tr><tr><td>38.07</td><td>4.0</td><td>Male</td><td>No</td><td>Sun</td><td>Dinner</td><td>3</td></tr><tr><td>23.95</td><td>2.55</td><td>Male</td><td>No</td><td>Sun</td><td>Dinner</td><td>2</td></tr><tr><td>25.71</td><td>4.0</td><td>Female</td><td>No</td><td>Sun</td><td>Dinner</td><td>3</td></tr><tr><td>17.31</td><td>3.5</td><td>Female</td><td>No</td><td>Sun</td><td>Dinner</td><td>2</td></tr><tr><td>29.93</td><td>5.07</td><td>Male</td><td>No</td><td>Sun</td><td>Dinner</td><td>4</td></tr><tr><td>10.65</td><td>1.5</td><td>Female</td><td>No</td><td>Thur</td><td>Lunch</td><td>2</td></tr><tr><td>12.43</td><td>1.8</td><td>Female</td><td>No</td><td>Thur</td><td>Lunch</td><td>2</td></tr><tr><td>24.08</td><td>2.92</td><td>Female</td><td>No</td><td>Thur</td><td>Lunch</td><td>4</td></tr><tr><td>11.69</td><td>2.31</td><td>Male</td><td>No</td><td>Thur</td><td>Lunch</td><td>2</td></tr><tr><td>13.42</td><td>1.68</td><td>Female</td><td>No</td><td>Thur</td><td>Lunch</td><td>2</td></tr><tr><td>14.26</td><td>2.5</td><td>Male</td><td>No</td><td>Thur</td><td>Lunch</td><td>2</td></tr><tr><td>15.95</td><td>2.0</td><td>Male</td><td>No</td><td>Thur</td><td>Lunch</td><td>2</td></tr><tr><td>12.48</td><td>2.52</td><td>Female</td><td>No</td><td>Thur</td><td>Lunch</td><td>2</td></tr><tr><td>29.8</td><td>4.2</td><td>Female</td><td>No</td><td>Thur</td><td>Lunch</td><td>6</td></tr><tr><td>8.52</td><td>1.48</td><td>Male</td><td>No</td><td>Thur</td><td>Lunch</td><td>2</td></tr><tr><td>14.52</td><td>2.0</td><td>Female</td><td>No</td><td>Thur</td><td>Lunch</td><td>2</td></tr><tr><td>11.38</td><td>2.0</td><td>Female</td><td>No</td><td>Thur</td><td>Lunch</td><td>2</td></tr><tr><td>22.82</td><td>2.18</td><td>Male</td><td>No</td><td>Thur</td><td>Lunch</td><td>3</td></tr><tr><td>19.08</td><td>1.5</td><td>Male</td><td>No</td><td>Thur</td><td>Lunch</td><td>2</td></tr><tr><td>20.27</td><td>2.83</td><td>Female</td><td>No</td><td>Thur</td><td>Lunch</td><td>2</td></tr><tr><td>11.17</td><td>1.5</td><td>Female</td><td>No</td><td>Thur</td><td>Lunch</td><td>2</td></tr><tr><td>12.26</td><td>2.0</td><td>Female</td><td>No</td><td>Thur</td><td>Lunch</td><td>2</td></tr><tr><td>18.26</td><td>3.25</td><td>Female</td><td>No</td><td>Thur</td><td>Lunch</td><td>2</td></tr><tr><td>8.51</td><td>1.25</td><td>Female</td><td>No</td><td>Thur</td><td>Lunch</td><td>2</td></tr><tr><td>10.33</td><td>2.0</td><td>Female</td><td>No</td><td>Thur</td><td>Lunch</td><td>2</td></tr><tr><td>14.15</td><td>2.0</td><td>Female</td><td>No</td><td>Thur</td><td>Lunch</td><td>2</td></tr><tr><td>16.0</td><td>2.0</td><td>Male</td><td>Yes</td><td>Thur</td><td>Lunch</td><td>2</td></tr><tr><td>13.16</td><td>2.75</td><td>Female</td><td>No</td><td>Thur</td><td>Lunch</td><td>2</td></tr><tr><td>17.47</td><td>3.5</td><td>Female</td><td>No</td><td>Thur</td><td>Lunch</td><td>2</td></tr><tr><td>34.3</td><td>6.7</td><td>Male</td><td>No</td><td>Thur</td><td>Lunch</td><td>6</td></tr><tr><td>41.19</td><td>5.0</td><td>Male</td><td>No</td><td>Thur</td><td>Lunch</td><td>5</td></tr><tr><td>27.05</td><td>5.0</td><td>Female</td><td>No</td><td>Thur</td><td>Lunch</td><td>6</td></tr><tr><td>16.43</td><td>2.3</td><td>Female</td><td>No</td><td>Thur</td><td>Lunch</td><td>2</td></tr><tr><td>8.35</td><td>1.5</td><td>Female</td><td>No</td><td>Thur</td><td>Lunch</td><td>2</td></tr><tr><td>18.64</td><td>1.36</td><td>Female</td><td>No</td><td>Thur</td><td>Lunch</td><td>3</td></tr><tr><td>11.87</td><td>1.63</td><td>Female</td><td>No</td><td>Thur</td><td>Lunch</td><td>2</td></tr><tr><td>9.78</td><td>1.73</td><td>Male</td><td>No</td><td>Thur</td><td>Lunch</td><td>2</td></tr><tr><td>7.51</td><td>2.0</td><td>Male</td><td>No</td><td>Thur</td><td>Lunch</td><td>2</td></tr><tr><td>14.07</td><td>2.5</td><td>Male</td><td>No</td><td>Sun</td><td>Dinner</td><td>2</td></tr><tr><td>13.13</td><td>2.0</td><td>Male</td><td>No</td><td>Sun</td><td>Dinner</td><td>2</td></tr><tr><td>17.26</td><td>2.74</td><td>Male</td><td>No</td><td>Sun</td><td>Dinner</td><td>3</td></tr><tr><td>24.55</td><td>2.0</td><td>Male</td><td>No</td><td>Sun</td><td>Dinner</td><td>4</td></tr><tr><td>19.77</td><td>2.0</td><td>Male</td><td>No</td><td>Sun</td><td>Dinner</td><td>4</td></tr><tr><td>29.85</td><td>5.14</td><td>Female</td><td>No</td><td>Sun</td><td>Dinner</td><td>5</td></tr><tr><td>48.17</td><td>5.0</td><td>Male</td><td>No</td><td>Sun</td><td>Dinner</td><td>6</td></tr><tr><td>25.0</td><td>3.75</td><td>Female</td><td>No</td><td>Sun</td><td>Dinner</td><td>4</td></tr><tr><td>13.39</td><td>2.61</td><td>Female</td><td>No</td><td>Sun</td><td>Dinner</td><td>2</td></tr><tr><td>16.49</td><td>2.0</td><td>Male</td><td>No</td><td>Sun</td><td>Dinner</td><td>4</td></tr><tr><td>21.5</td><td>3.5</td><td>Male</td><td>No</td><td>Sun</td><td>Dinner</td><td>4</td></tr><tr><td>12.66</td><td>2.5</td><td>Male</td><td>No</td><td>Sun</td><td>Dinner</td><td>2</td></tr><tr><td>16.21</td><td>2.0</td><td>Female</td><td>No</td><td>Sun</td><td>Dinner</td><td>3</td></tr><tr><td>13.81</td><td>2.0</td><td>Male</td><td>No</td><td>Sun</td><td>Dinner</td><td>2</td></tr><tr><td>17.51</td><td>3.0</td><td>Female</td><td>Yes</td><td>Sun</td><td>Dinner</td><td>2</td></tr><tr><td>24.52</td><td>3.48</td><td>Male</td><td>No</td><td>Sun</td><td>Dinner</td><td>3</td></tr><tr><td>20.76</td><td>2.24</td><td>Male</td><td>No</td><td>Sun</td><td>Dinner</td><td>2</td></tr><tr><td>31.71</td><td>4.5</td><td>Male</td><td>No</td><td>Sun</td><td>Dinner</td><td>4</td></tr><tr><td>10.59</td><td>1.61</td><td>Female</td><td>Yes</td><td>Sat</td><td>Dinner</td><td>2</td></tr><tr><td>10.63</td><td>2.0</td><td>Female</td><td>Yes</td><td>Sat</td><td>Dinner</td><td>2</td></tr><tr><td>50.81</td><td>10.0</td><td>Male</td><td>Yes</td><td>Sat</td><td>Dinner</td><td>3</td></tr><tr><td>15.81</td><td>3.16</td><td>Male</td><td>Yes</td><td>Sat</td><td>Dinner</td><td>2</td></tr><tr><td>7.25</td><td>5.15</td><td>Male</td><td>Yes</td><td>Sun</td><td>Dinner</td><td>2</td></tr><tr><td>31.85</td><td>3.18</td><td>Male</td><td>Yes</td><td>Sun</td><td>Dinner</td><td>2</td></tr><tr><td>16.82</td><td>4.0</td><td>Male</td><td>Yes</td><td>Sun</td><td>Dinner</td><td>2</td></tr><tr><td>32.9</td><td>3.11</td><td>Male</td><td>Yes</td><td>Sun</td><td>Dinner</td><td>2</td></tr><tr><td>17.89</td><td>2.0</td><td>Male</td><td>Yes</td><td>Sun</td><td>Dinner</td><td>2</td></tr><tr><td>14.48</td><td>2.0</td><td>Male</td><td>Yes</td><td>Sun</td><td>Dinner</td><td>2</td></tr><tr><td>9.6</td><td>4.0</td><td>Female</td><td>Yes</td><td>Sun</td><td>Dinner</td><td>2</td></tr><tr><td>34.63</td><td>3.55</td><td>Male</td><td>Yes</td><td>Sun</td><td>Dinner</td><td>2</td></tr><tr><td>34.65</td><td>3.68</td><td>Male</td><td>Yes</td><td>Sun</td><td>Dinner</td><td>4</td></tr><tr><td>23.33</td><td>5.65</td><td>Male</td><td>Yes</td><td>Sun</td><td>Dinner</td><td>2</td></tr><tr><td>45.35</td><td>3.5</td><td>Male</td><td>Yes</td><td>Sun</td><td>Dinner</td><td>3</td></tr><tr><td>23.17</td><td>6.5</td><td>Male</td><td>Yes</td><td>Sun</td><td>Dinner</td><td>4</td></tr><tr><td>40.55</td><td>3.0</td><td>Male</td><td>Yes</td><td>Sun</td><td>Dinner</td><td>2</td></tr><tr><td>20.69</td><td>5.0</td><td>Male</td><td>No</td><td>Sun</td><td>Dinner</td><td>5</td></tr><tr><td>20.9</td><td>3.5</td><td>Female</td><td>Yes</td><td>Sun</td><td>Dinner</td><td>3</td></tr><tr><td>30.46</td><td>2.0</td><td>Male</td><td>Yes</td><td>Sun</td><td>Dinner</td><td>5</td></tr><tr><td>18.15</td><td>3.5</td><td>Female</td><td>Yes</td><td>Sun</td><td>Dinner</td><td>3</td></tr><tr><td>23.1</td><td>4.0</td><td>Male</td><td>Yes</td><td>Sun</td><td>Dinner</td><td>3</td></tr><tr><td>15.69</td><td>1.5</td><td>Male</td><td>Yes</td><td>Sun</td><td>Dinner</td><td>2</td></tr><tr><td>19.81</td><td>4.19</td><td>Female</td><td>Yes</td><td>Thur</td><td>Lunch</td><td>2</td></tr><tr><td>28.44</td><td>2.56</td><td>Male</td><td>Yes</td><td>Thur</td><td>Lunch</td><td>2</td></tr><tr><td>15.48</td><td>2.02</td><td>Male</td><td>Yes</td><td>Thur</td><td>Lunch</td><td>2</td></tr><tr><td>16.58</td><td>4.0</td><td>Male</td><td>Yes</td><td>Thur</td><td>Lunch</td><td>2</td></tr><tr><td>7.56</td><td>1.44</td><td>Male</td><td>No</td><td>Thur</td><td>Lunch</td><td>2</td></tr><tr><td>10.34</td><td>2.0</td><td>Male</td><td>Yes</td><td>Thur</td><td>Lunch</td><td>2</td></tr><tr><td>43.11</td><td>5.0</td><td>Female</td><td>Yes</td><td>Thur</td><td>Lunch</td><td>4</td></tr><tr><td>13.0</td><td>2.0</td><td>Female</td><td>Yes</td><td>Thur</td><td>Lunch</td><td>2</td></tr><tr><td>13.51</td><td>2.0</td><td>Male</td><td>Yes</td><td>Thur</td><td>Lunch</td><td>2</td></tr><tr><td>18.71</td><td>4.0</td><td>Male</td><td>Yes</td><td>Thur</td><td>Lunch</td><td>3</td></tr><tr><td>12.74</td><td>2.01</td><td>Female</td><td>Yes</td><td>Thur</td><td>Lunch</td><td>2</td></tr><tr><td>13.0</td><td>2.0</td><td>Female</td><td>Yes</td><td>Thur</td><td>Lunch</td><td>2</td></tr><tr><td>16.4</td><td>2.5</td><td>Female</td><td>Yes</td><td>Thur</td><td>Lunch</td><td>2</td></tr><tr><td>20.53</td><td>4.0</td><td>Male</td><td>Yes</td><td>Thur</td><td>Lunch</td><td>4</td></tr><tr><td>16.47</td><td>3.23</td><td>Female</td><td>Yes</td><td>Thur</td><td>Lunch</td><td>3</td></tr><tr><td>26.59</td><td>3.41</td><td>Male</td><td>Yes</td><td>Sat</td><td>Dinner</td><td>3</td></tr><tr><td>38.73</td><td>3.0</td><td>Male</td><td>Yes</td><td>Sat</td><td>Dinner</td><td>4</td></tr><tr><td>24.27</td><td>2.03</td><td>Male</td><td>Yes</td><td>Sat</td><td>Dinner</td><td>2</td></tr><tr><td>12.76</td><td>2.23</td><td>Female</td><td>Yes</td><td>Sat</td><td>Dinner</td><td>2</td></tr><tr><td>30.06</td><td>2.0</td><td>Male</td><td>Yes</td><td>Sat</td><td>Dinner</td><td>3</td></tr><tr><td>25.89</td><td>5.16</td><td>Male</td><td>Yes</td><td>Sat</td><td>Dinner</td><td>4</td></tr><tr><td>48.33</td><td>9.0</td><td>Male</td><td>No</td><td>Sat</td><td>Dinner</td><td>4</td></tr><tr><td>13.27</td><td>2.5</td><td>Female</td><td>Yes</td><td>Sat</td><td>Dinner</td><td>2</td></tr><tr><td>28.17</td><td>6.5</td><td>Female</td><td>Yes</td><td>Sat</td><td>Dinner</td><td>3</td></tr><tr><td>12.9</td><td>1.1</td><td>Female</td><td>Yes</td><td>Sat</td><td>Dinner</td><td>2</td></tr><tr><td>28.15</td><td>3.0</td><td>Male</td><td>Yes</td><td>Sat</td><td>Dinner</td><td>5</td></tr><tr><td>11.59</td><td>1.5</td><td>Male</td><td>Yes</td><td>Sat</td><td>Dinner</td><td>2</td></tr><tr><td>7.74</td><td>1.44</td><td>Male</td><td>Yes</td><td>Sat</td><td>Dinner</td><td>2</td></tr><tr><td>30.14</td><td>3.09</td><td>Female</td><td>Yes</td><td>Sat</td><td>Dinner</td><td>4</td></tr><tr><td>12.16</td><td>2.2</td><td>Male</td><td>Yes</td><td>Fri</td><td>Lunch</td><td>2</td></tr><tr><td>13.42</td><td>3.48</td><td>Female</td><td>Yes</td><td>Fri</td><td>Lunch</td><td>2</td></tr><tr><td>8.58</td><td>1.92</td><td>Male</td><td>Yes</td><td>Fri</td><td>Lunch</td><td>1</td></tr><tr><td>15.98</td><td>3.0</td><td>Female</td><td>No</td><td>Fri</td><td>Lunch</td><td>3</td></tr><tr><td>13.42</td><td>1.58</td><td>Male</td><td>Yes</td><td>Fri</td><td>Lunch</td><td>2</td></tr><tr><td>16.27</td><td>2.5</td><td>Female</td><td>Yes</td><td>Fri</td><td>Lunch</td><td>2</td></tr><tr><td>10.09</td><td>2.0</td><td>Female</td><td>Yes</td><td>Fri</td><td>Lunch</td><td>2</td></tr><tr><td>20.45</td><td>3.0</td><td>Male</td><td>No</td><td>Sat</td><td>Dinner</td><td>4</td></tr><tr><td>13.28</td><td>2.72</td><td>Male</td><td>No</td><td>Sat</td><td>Dinner</td><td>2</td></tr><tr><td>22.12</td><td>2.88</td><td>Female</td><td>Yes</td><td>Sat</td><td>Dinner</td><td>2</td></tr><tr><td>24.01</td><td>2.0</td><td>Male</td><td>Yes</td><td>Sat</td><td>Dinner</td><td>4</td></tr><tr><td>15.69</td><td>3.0</td><td>Male</td><td>Yes</td><td>Sat</td><td>Dinner</td><td>3</td></tr><tr><td>11.61</td><td>3.39</td><td>Male</td><td>No</td><td>Sat</td><td>Dinner</td><td>2</td></tr><tr><td>10.77</td><td>1.47</td><td>Male</td><td>No</td><td>Sat</td><td>Dinner</td><td>2</td></tr><tr><td>15.53</td><td>3.0</td><td>Male</td><td>Yes</td><td>Sat</td><td>Dinner</td><td>2</td></tr><tr><td>10.07</td><td>1.25</td><td>Male</td><td>No</td><td>Sat</td><td>Dinner</td><td>2</td></tr><tr><td>12.6</td><td>1.0</td><td>Male</td><td>Yes</td><td>Sat</td><td>Dinner</td><td>2</td></tr><tr><td>32.83</td><td>1.17</td><td>Male</td><td>Yes</td><td>Sat</td><td>Dinner</td><td>2</td></tr><tr><td>35.83</td><td>4.67</td><td>Female</td><td>No</td><td>Sat</td><td>Dinner</td><td>3</td></tr><tr><td>29.03</td><td>5.92</td><td>Male</td><td>No</td><td>Sat</td><td>Dinner</td><td>3</td></tr><tr><td>27.18</td><td>2.0</td><td>Female</td><td>Yes</td><td>Sat</td><td>Dinner</td><td>2</td></tr><tr><td>22.67</td><td>2.0</td><td>Male</td><td>Yes</td><td>Sat</td><td>Dinner</td><td>2</td></tr><tr><td>17.82</td><td>1.75</td><td>Male</td><td>No</td><td>Sat</td><td>Dinner</td><td>2</td></tr><tr><td>18.78</td><td>3.0</td><td>Female</td><td>No</td><td>Thur</td><td>Dinner</td><td>2</td></tr></tbody></table></div>"
      ]
     },
     "metadata": {
      "application/vnd.databricks.v1+output": {
       "addedWidgets": {},
       "aggData": [],
       "aggError": "",
       "aggOverflow": false,
       "aggSchema": [],
       "aggSeriesLimitReached": false,
       "aggType": "",
       "arguments": {},
       "columnCustomDisplayInfos": {},
       "data": [
        [
         16.99,
         1.01,
         "Female",
         "No",
         "Sun",
         "Dinner",
         2
        ],
        [
         10.34,
         1.66,
         "Male",
         "No",
         "Sun",
         "Dinner",
         3
        ],
        [
         21.01,
         3.5,
         "Male",
         "No",
         "Sun",
         "Dinner",
         3
        ],
        [
         23.68,
         3.31,
         "Male",
         "No",
         "Sun",
         "Dinner",
         2
        ],
        [
         24.59,
         3.61,
         "Female",
         "No",
         "Sun",
         "Dinner",
         4
        ],
        [
         25.29,
         4.71,
         "Male",
         "No",
         "Sun",
         "Dinner",
         4
        ],
        [
         8.77,
         2.0,
         "Male",
         "No",
         "Sun",
         "Dinner",
         2
        ],
        [
         26.88,
         3.12,
         "Male",
         "No",
         "Sun",
         "Dinner",
         4
        ],
        [
         15.04,
         1.96,
         "Male",
         "No",
         "Sun",
         "Dinner",
         2
        ],
        [
         14.78,
         3.23,
         "Male",
         "No",
         "Sun",
         "Dinner",
         2
        ],
        [
         10.27,
         1.71,
         "Male",
         "No",
         "Sun",
         "Dinner",
         2
        ],
        [
         35.26,
         5.0,
         "Female",
         "No",
         "Sun",
         "Dinner",
         4
        ],
        [
         15.42,
         1.57,
         "Male",
         "No",
         "Sun",
         "Dinner",
         2
        ],
        [
         18.43,
         3.0,
         "Male",
         "No",
         "Sun",
         "Dinner",
         4
        ],
        [
         14.83,
         3.02,
         "Female",
         "No",
         "Sun",
         "Dinner",
         2
        ],
        [
         21.58,
         3.92,
         "Male",
         "No",
         "Sun",
         "Dinner",
         2
        ],
        [
         10.33,
         1.67,
         "Female",
         "No",
         "Sun",
         "Dinner",
         3
        ],
        [
         16.29,
         3.71,
         "Male",
         "No",
         "Sun",
         "Dinner",
         3
        ],
        [
         16.97,
         3.5,
         "Female",
         "No",
         "Sun",
         "Dinner",
         3
        ],
        [
         20.65,
         3.35,
         "Male",
         "No",
         "Sat",
         "Dinner",
         3
        ],
        [
         17.92,
         4.08,
         "Male",
         "No",
         "Sat",
         "Dinner",
         2
        ],
        [
         20.29,
         2.75,
         "Female",
         "No",
         "Sat",
         "Dinner",
         2
        ],
        [
         15.77,
         2.23,
         "Female",
         "No",
         "Sat",
         "Dinner",
         2
        ],
        [
         39.42,
         7.58,
         "Male",
         "No",
         "Sat",
         "Dinner",
         4
        ],
        [
         19.82,
         3.18,
         "Male",
         "No",
         "Sat",
         "Dinner",
         2
        ],
        [
         17.81,
         2.34,
         "Male",
         "No",
         "Sat",
         "Dinner",
         4
        ],
        [
         13.37,
         2.0,
         "Male",
         "No",
         "Sat",
         "Dinner",
         2
        ],
        [
         12.69,
         2.0,
         "Male",
         "No",
         "Sat",
         "Dinner",
         2
        ],
        [
         21.7,
         4.3,
         "Male",
         "No",
         "Sat",
         "Dinner",
         2
        ],
        [
         19.65,
         3.0,
         "Female",
         "No",
         "Sat",
         "Dinner",
         2
        ],
        [
         9.55,
         1.45,
         "Male",
         "No",
         "Sat",
         "Dinner",
         2
        ],
        [
         18.35,
         2.5,
         "Male",
         "No",
         "Sat",
         "Dinner",
         4
        ],
        [
         15.06,
         3.0,
         "Female",
         "No",
         "Sat",
         "Dinner",
         2
        ],
        [
         20.69,
         2.45,
         "Female",
         "No",
         "Sat",
         "Dinner",
         4
        ],
        [
         17.78,
         3.27,
         "Male",
         "No",
         "Sat",
         "Dinner",
         2
        ],
        [
         24.06,
         3.6,
         "Male",
         "No",
         "Sat",
         "Dinner",
         3
        ],
        [
         16.31,
         2.0,
         "Male",
         "No",
         "Sat",
         "Dinner",
         3
        ],
        [
         16.93,
         3.07,
         "Female",
         "No",
         "Sat",
         "Dinner",
         3
        ],
        [
         18.69,
         2.31,
         "Male",
         "No",
         "Sat",
         "Dinner",
         3
        ],
        [
         31.27,
         5.0,
         "Male",
         "No",
         "Sat",
         "Dinner",
         3
        ],
        [
         16.04,
         2.24,
         "Male",
         "No",
         "Sat",
         "Dinner",
         3
        ],
        [
         17.46,
         2.54,
         "Male",
         "No",
         "Sun",
         "Dinner",
         2
        ],
        [
         13.94,
         3.06,
         "Male",
         "No",
         "Sun",
         "Dinner",
         2
        ],
        [
         9.68,
         1.32,
         "Male",
         "No",
         "Sun",
         "Dinner",
         2
        ],
        [
         30.4,
         5.6,
         "Male",
         "No",
         "Sun",
         "Dinner",
         4
        ],
        [
         18.29,
         3.0,
         "Male",
         "No",
         "Sun",
         "Dinner",
         2
        ],
        [
         22.23,
         5.0,
         "Male",
         "No",
         "Sun",
         "Dinner",
         2
        ],
        [
         32.4,
         6.0,
         "Male",
         "No",
         "Sun",
         "Dinner",
         4
        ],
        [
         28.55,
         2.05,
         "Male",
         "No",
         "Sun",
         "Dinner",
         3
        ],
        [
         18.04,
         3.0,
         "Male",
         "No",
         "Sun",
         "Dinner",
         2
        ],
        [
         12.54,
         2.5,
         "Male",
         "No",
         "Sun",
         "Dinner",
         2
        ],
        [
         10.29,
         2.6,
         "Female",
         "No",
         "Sun",
         "Dinner",
         2
        ],
        [
         34.81,
         5.2,
         "Female",
         "No",
         "Sun",
         "Dinner",
         4
        ],
        [
         9.94,
         1.56,
         "Male",
         "No",
         "Sun",
         "Dinner",
         2
        ],
        [
         25.56,
         4.34,
         "Male",
         "No",
         "Sun",
         "Dinner",
         4
        ],
        [
         19.49,
         3.51,
         "Male",
         "No",
         "Sun",
         "Dinner",
         2
        ],
        [
         38.01,
         3.0,
         "Male",
         "Yes",
         "Sat",
         "Dinner",
         4
        ],
        [
         26.41,
         1.5,
         "Female",
         "No",
         "Sat",
         "Dinner",
         2
        ],
        [
         11.24,
         1.76,
         "Male",
         "Yes",
         "Sat",
         "Dinner",
         2
        ],
        [
         48.27,
         6.73,
         "Male",
         "No",
         "Sat",
         "Dinner",
         4
        ],
        [
         20.29,
         3.21,
         "Male",
         "Yes",
         "Sat",
         "Dinner",
         2
        ],
        [
         13.81,
         2.0,
         "Male",
         "Yes",
         "Sat",
         "Dinner",
         2
        ],
        [
         11.02,
         1.98,
         "Male",
         "Yes",
         "Sat",
         "Dinner",
         2
        ],
        [
         18.29,
         3.76,
         "Male",
         "Yes",
         "Sat",
         "Dinner",
         4
        ],
        [
         17.59,
         2.64,
         "Male",
         "No",
         "Sat",
         "Dinner",
         3
        ],
        [
         20.08,
         3.15,
         "Male",
         "No",
         "Sat",
         "Dinner",
         3
        ],
        [
         16.45,
         2.47,
         "Female",
         "No",
         "Sat",
         "Dinner",
         2
        ],
        [
         3.07,
         1.0,
         "Female",
         "Yes",
         "Sat",
         "Dinner",
         1
        ],
        [
         20.23,
         2.01,
         "Male",
         "No",
         "Sat",
         "Dinner",
         2
        ],
        [
         15.01,
         2.09,
         "Male",
         "Yes",
         "Sat",
         "Dinner",
         2
        ],
        [
         12.02,
         1.97,
         "Male",
         "No",
         "Sat",
         "Dinner",
         2
        ],
        [
         17.07,
         3.0,
         "Female",
         "No",
         "Sat",
         "Dinner",
         3
        ],
        [
         26.86,
         3.14,
         "Female",
         "Yes",
         "Sat",
         "Dinner",
         2
        ],
        [
         25.28,
         5.0,
         "Female",
         "Yes",
         "Sat",
         "Dinner",
         2
        ],
        [
         14.73,
         2.2,
         "Female",
         "No",
         "Sat",
         "Dinner",
         2
        ],
        [
         10.51,
         1.25,
         "Male",
         "No",
         "Sat",
         "Dinner",
         2
        ],
        [
         17.92,
         3.08,
         "Male",
         "Yes",
         "Sat",
         "Dinner",
         2
        ],
        [
         27.2,
         4.0,
         "Male",
         "No",
         "Thur",
         "Lunch",
         4
        ],
        [
         22.76,
         3.0,
         "Male",
         "No",
         "Thur",
         "Lunch",
         2
        ],
        [
         17.29,
         2.71,
         "Male",
         "No",
         "Thur",
         "Lunch",
         2
        ],
        [
         19.44,
         3.0,
         "Male",
         "Yes",
         "Thur",
         "Lunch",
         2
        ],
        [
         16.66,
         3.4,
         "Male",
         "No",
         "Thur",
         "Lunch",
         2
        ],
        [
         10.07,
         1.83,
         "Female",
         "No",
         "Thur",
         "Lunch",
         1
        ],
        [
         32.68,
         5.0,
         "Male",
         "Yes",
         "Thur",
         "Lunch",
         2
        ],
        [
         15.98,
         2.03,
         "Male",
         "No",
         "Thur",
         "Lunch",
         2
        ],
        [
         34.83,
         5.17,
         "Female",
         "No",
         "Thur",
         "Lunch",
         4
        ],
        [
         13.03,
         2.0,
         "Male",
         "No",
         "Thur",
         "Lunch",
         2
        ],
        [
         18.28,
         4.0,
         "Male",
         "No",
         "Thur",
         "Lunch",
         2
        ],
        [
         24.71,
         5.85,
         "Male",
         "No",
         "Thur",
         "Lunch",
         2
        ],
        [
         21.16,
         3.0,
         "Male",
         "No",
         "Thur",
         "Lunch",
         2
        ],
        [
         28.97,
         3.0,
         "Male",
         "Yes",
         "Fri",
         "Dinner",
         2
        ],
        [
         22.49,
         3.5,
         "Male",
         "No",
         "Fri",
         "Dinner",
         2
        ],
        [
         5.75,
         1.0,
         "Female",
         "Yes",
         "Fri",
         "Dinner",
         2
        ],
        [
         16.32,
         4.3,
         "Female",
         "Yes",
         "Fri",
         "Dinner",
         2
        ],
        [
         22.75,
         3.25,
         "Female",
         "No",
         "Fri",
         "Dinner",
         2
        ],
        [
         40.17,
         4.73,
         "Male",
         "Yes",
         "Fri",
         "Dinner",
         4
        ],
        [
         27.28,
         4.0,
         "Male",
         "Yes",
         "Fri",
         "Dinner",
         2
        ],
        [
         12.03,
         1.5,
         "Male",
         "Yes",
         "Fri",
         "Dinner",
         2
        ],
        [
         21.01,
         3.0,
         "Male",
         "Yes",
         "Fri",
         "Dinner",
         2
        ],
        [
         12.46,
         1.5,
         "Male",
         "No",
         "Fri",
         "Dinner",
         2
        ],
        [
         11.35,
         2.5,
         "Female",
         "Yes",
         "Fri",
         "Dinner",
         2
        ],
        [
         15.38,
         3.0,
         "Female",
         "Yes",
         "Fri",
         "Dinner",
         2
        ],
        [
         44.3,
         2.5,
         "Female",
         "Yes",
         "Sat",
         "Dinner",
         3
        ],
        [
         22.42,
         3.48,
         "Female",
         "Yes",
         "Sat",
         "Dinner",
         2
        ],
        [
         20.92,
         4.08,
         "Female",
         "No",
         "Sat",
         "Dinner",
         2
        ],
        [
         15.36,
         1.64,
         "Male",
         "Yes",
         "Sat",
         "Dinner",
         2
        ],
        [
         20.49,
         4.06,
         "Male",
         "Yes",
         "Sat",
         "Dinner",
         2
        ],
        [
         25.21,
         4.29,
         "Male",
         "Yes",
         "Sat",
         "Dinner",
         2
        ],
        [
         18.24,
         3.76,
         "Male",
         "No",
         "Sat",
         "Dinner",
         2
        ],
        [
         14.31,
         4.0,
         "Female",
         "Yes",
         "Sat",
         "Dinner",
         2
        ],
        [
         14.0,
         3.0,
         "Male",
         "No",
         "Sat",
         "Dinner",
         2
        ],
        [
         7.25,
         1.0,
         "Female",
         "No",
         "Sat",
         "Dinner",
         1
        ],
        [
         38.07,
         4.0,
         "Male",
         "No",
         "Sun",
         "Dinner",
         3
        ],
        [
         23.95,
         2.55,
         "Male",
         "No",
         "Sun",
         "Dinner",
         2
        ],
        [
         25.71,
         4.0,
         "Female",
         "No",
         "Sun",
         "Dinner",
         3
        ],
        [
         17.31,
         3.5,
         "Female",
         "No",
         "Sun",
         "Dinner",
         2
        ],
        [
         29.93,
         5.07,
         "Male",
         "No",
         "Sun",
         "Dinner",
         4
        ],
        [
         10.65,
         1.5,
         "Female",
         "No",
         "Thur",
         "Lunch",
         2
        ],
        [
         12.43,
         1.8,
         "Female",
         "No",
         "Thur",
         "Lunch",
         2
        ],
        [
         24.08,
         2.92,
         "Female",
         "No",
         "Thur",
         "Lunch",
         4
        ],
        [
         11.69,
         2.31,
         "Male",
         "No",
         "Thur",
         "Lunch",
         2
        ],
        [
         13.42,
         1.68,
         "Female",
         "No",
         "Thur",
         "Lunch",
         2
        ],
        [
         14.26,
         2.5,
         "Male",
         "No",
         "Thur",
         "Lunch",
         2
        ],
        [
         15.95,
         2.0,
         "Male",
         "No",
         "Thur",
         "Lunch",
         2
        ],
        [
         12.48,
         2.52,
         "Female",
         "No",
         "Thur",
         "Lunch",
         2
        ],
        [
         29.8,
         4.2,
         "Female",
         "No",
         "Thur",
         "Lunch",
         6
        ],
        [
         8.52,
         1.48,
         "Male",
         "No",
         "Thur",
         "Lunch",
         2
        ],
        [
         14.52,
         2.0,
         "Female",
         "No",
         "Thur",
         "Lunch",
         2
        ],
        [
         11.38,
         2.0,
         "Female",
         "No",
         "Thur",
         "Lunch",
         2
        ],
        [
         22.82,
         2.18,
         "Male",
         "No",
         "Thur",
         "Lunch",
         3
        ],
        [
         19.08,
         1.5,
         "Male",
         "No",
         "Thur",
         "Lunch",
         2
        ],
        [
         20.27,
         2.83,
         "Female",
         "No",
         "Thur",
         "Lunch",
         2
        ],
        [
         11.17,
         1.5,
         "Female",
         "No",
         "Thur",
         "Lunch",
         2
        ],
        [
         12.26,
         2.0,
         "Female",
         "No",
         "Thur",
         "Lunch",
         2
        ],
        [
         18.26,
         3.25,
         "Female",
         "No",
         "Thur",
         "Lunch",
         2
        ],
        [
         8.51,
         1.25,
         "Female",
         "No",
         "Thur",
         "Lunch",
         2
        ],
        [
         10.33,
         2.0,
         "Female",
         "No",
         "Thur",
         "Lunch",
         2
        ],
        [
         14.15,
         2.0,
         "Female",
         "No",
         "Thur",
         "Lunch",
         2
        ],
        [
         16.0,
         2.0,
         "Male",
         "Yes",
         "Thur",
         "Lunch",
         2
        ],
        [
         13.16,
         2.75,
         "Female",
         "No",
         "Thur",
         "Lunch",
         2
        ],
        [
         17.47,
         3.5,
         "Female",
         "No",
         "Thur",
         "Lunch",
         2
        ],
        [
         34.3,
         6.7,
         "Male",
         "No",
         "Thur",
         "Lunch",
         6
        ],
        [
         41.19,
         5.0,
         "Male",
         "No",
         "Thur",
         "Lunch",
         5
        ],
        [
         27.05,
         5.0,
         "Female",
         "No",
         "Thur",
         "Lunch",
         6
        ],
        [
         16.43,
         2.3,
         "Female",
         "No",
         "Thur",
         "Lunch",
         2
        ],
        [
         8.35,
         1.5,
         "Female",
         "No",
         "Thur",
         "Lunch",
         2
        ],
        [
         18.64,
         1.36,
         "Female",
         "No",
         "Thur",
         "Lunch",
         3
        ],
        [
         11.87,
         1.63,
         "Female",
         "No",
         "Thur",
         "Lunch",
         2
        ],
        [
         9.78,
         1.73,
         "Male",
         "No",
         "Thur",
         "Lunch",
         2
        ],
        [
         7.51,
         2.0,
         "Male",
         "No",
         "Thur",
         "Lunch",
         2
        ],
        [
         14.07,
         2.5,
         "Male",
         "No",
         "Sun",
         "Dinner",
         2
        ],
        [
         13.13,
         2.0,
         "Male",
         "No",
         "Sun",
         "Dinner",
         2
        ],
        [
         17.26,
         2.74,
         "Male",
         "No",
         "Sun",
         "Dinner",
         3
        ],
        [
         24.55,
         2.0,
         "Male",
         "No",
         "Sun",
         "Dinner",
         4
        ],
        [
         19.77,
         2.0,
         "Male",
         "No",
         "Sun",
         "Dinner",
         4
        ],
        [
         29.85,
         5.14,
         "Female",
         "No",
         "Sun",
         "Dinner",
         5
        ],
        [
         48.17,
         5.0,
         "Male",
         "No",
         "Sun",
         "Dinner",
         6
        ],
        [
         25.0,
         3.75,
         "Female",
         "No",
         "Sun",
         "Dinner",
         4
        ],
        [
         13.39,
         2.61,
         "Female",
         "No",
         "Sun",
         "Dinner",
         2
        ],
        [
         16.49,
         2.0,
         "Male",
         "No",
         "Sun",
         "Dinner",
         4
        ],
        [
         21.5,
         3.5,
         "Male",
         "No",
         "Sun",
         "Dinner",
         4
        ],
        [
         12.66,
         2.5,
         "Male",
         "No",
         "Sun",
         "Dinner",
         2
        ],
        [
         16.21,
         2.0,
         "Female",
         "No",
         "Sun",
         "Dinner",
         3
        ],
        [
         13.81,
         2.0,
         "Male",
         "No",
         "Sun",
         "Dinner",
         2
        ],
        [
         17.51,
         3.0,
         "Female",
         "Yes",
         "Sun",
         "Dinner",
         2
        ],
        [
         24.52,
         3.48,
         "Male",
         "No",
         "Sun",
         "Dinner",
         3
        ],
        [
         20.76,
         2.24,
         "Male",
         "No",
         "Sun",
         "Dinner",
         2
        ],
        [
         31.71,
         4.5,
         "Male",
         "No",
         "Sun",
         "Dinner",
         4
        ],
        [
         10.59,
         1.61,
         "Female",
         "Yes",
         "Sat",
         "Dinner",
         2
        ],
        [
         10.63,
         2.0,
         "Female",
         "Yes",
         "Sat",
         "Dinner",
         2
        ],
        [
         50.81,
         10.0,
         "Male",
         "Yes",
         "Sat",
         "Dinner",
         3
        ],
        [
         15.81,
         3.16,
         "Male",
         "Yes",
         "Sat",
         "Dinner",
         2
        ],
        [
         7.25,
         5.15,
         "Male",
         "Yes",
         "Sun",
         "Dinner",
         2
        ],
        [
         31.85,
         3.18,
         "Male",
         "Yes",
         "Sun",
         "Dinner",
         2
        ],
        [
         16.82,
         4.0,
         "Male",
         "Yes",
         "Sun",
         "Dinner",
         2
        ],
        [
         32.9,
         3.11,
         "Male",
         "Yes",
         "Sun",
         "Dinner",
         2
        ],
        [
         17.89,
         2.0,
         "Male",
         "Yes",
         "Sun",
         "Dinner",
         2
        ],
        [
         14.48,
         2.0,
         "Male",
         "Yes",
         "Sun",
         "Dinner",
         2
        ],
        [
         9.6,
         4.0,
         "Female",
         "Yes",
         "Sun",
         "Dinner",
         2
        ],
        [
         34.63,
         3.55,
         "Male",
         "Yes",
         "Sun",
         "Dinner",
         2
        ],
        [
         34.65,
         3.68,
         "Male",
         "Yes",
         "Sun",
         "Dinner",
         4
        ],
        [
         23.33,
         5.65,
         "Male",
         "Yes",
         "Sun",
         "Dinner",
         2
        ],
        [
         45.35,
         3.5,
         "Male",
         "Yes",
         "Sun",
         "Dinner",
         3
        ],
        [
         23.17,
         6.5,
         "Male",
         "Yes",
         "Sun",
         "Dinner",
         4
        ],
        [
         40.55,
         3.0,
         "Male",
         "Yes",
         "Sun",
         "Dinner",
         2
        ],
        [
         20.69,
         5.0,
         "Male",
         "No",
         "Sun",
         "Dinner",
         5
        ],
        [
         20.9,
         3.5,
         "Female",
         "Yes",
         "Sun",
         "Dinner",
         3
        ],
        [
         30.46,
         2.0,
         "Male",
         "Yes",
         "Sun",
         "Dinner",
         5
        ],
        [
         18.15,
         3.5,
         "Female",
         "Yes",
         "Sun",
         "Dinner",
         3
        ],
        [
         23.1,
         4.0,
         "Male",
         "Yes",
         "Sun",
         "Dinner",
         3
        ],
        [
         15.69,
         1.5,
         "Male",
         "Yes",
         "Sun",
         "Dinner",
         2
        ],
        [
         19.81,
         4.19,
         "Female",
         "Yes",
         "Thur",
         "Lunch",
         2
        ],
        [
         28.44,
         2.56,
         "Male",
         "Yes",
         "Thur",
         "Lunch",
         2
        ],
        [
         15.48,
         2.02,
         "Male",
         "Yes",
         "Thur",
         "Lunch",
         2
        ],
        [
         16.58,
         4.0,
         "Male",
         "Yes",
         "Thur",
         "Lunch",
         2
        ],
        [
         7.56,
         1.44,
         "Male",
         "No",
         "Thur",
         "Lunch",
         2
        ],
        [
         10.34,
         2.0,
         "Male",
         "Yes",
         "Thur",
         "Lunch",
         2
        ],
        [
         43.11,
         5.0,
         "Female",
         "Yes",
         "Thur",
         "Lunch",
         4
        ],
        [
         13.0,
         2.0,
         "Female",
         "Yes",
         "Thur",
         "Lunch",
         2
        ],
        [
         13.51,
         2.0,
         "Male",
         "Yes",
         "Thur",
         "Lunch",
         2
        ],
        [
         18.71,
         4.0,
         "Male",
         "Yes",
         "Thur",
         "Lunch",
         3
        ],
        [
         12.74,
         2.01,
         "Female",
         "Yes",
         "Thur",
         "Lunch",
         2
        ],
        [
         13.0,
         2.0,
         "Female",
         "Yes",
         "Thur",
         "Lunch",
         2
        ],
        [
         16.4,
         2.5,
         "Female",
         "Yes",
         "Thur",
         "Lunch",
         2
        ],
        [
         20.53,
         4.0,
         "Male",
         "Yes",
         "Thur",
         "Lunch",
         4
        ],
        [
         16.47,
         3.23,
         "Female",
         "Yes",
         "Thur",
         "Lunch",
         3
        ],
        [
         26.59,
         3.41,
         "Male",
         "Yes",
         "Sat",
         "Dinner",
         3
        ],
        [
         38.73,
         3.0,
         "Male",
         "Yes",
         "Sat",
         "Dinner",
         4
        ],
        [
         24.27,
         2.03,
         "Male",
         "Yes",
         "Sat",
         "Dinner",
         2
        ],
        [
         12.76,
         2.23,
         "Female",
         "Yes",
         "Sat",
         "Dinner",
         2
        ],
        [
         30.06,
         2.0,
         "Male",
         "Yes",
         "Sat",
         "Dinner",
         3
        ],
        [
         25.89,
         5.16,
         "Male",
         "Yes",
         "Sat",
         "Dinner",
         4
        ],
        [
         48.33,
         9.0,
         "Male",
         "No",
         "Sat",
         "Dinner",
         4
        ],
        [
         13.27,
         2.5,
         "Female",
         "Yes",
         "Sat",
         "Dinner",
         2
        ],
        [
         28.17,
         6.5,
         "Female",
         "Yes",
         "Sat",
         "Dinner",
         3
        ],
        [
         12.9,
         1.1,
         "Female",
         "Yes",
         "Sat",
         "Dinner",
         2
        ],
        [
         28.15,
         3.0,
         "Male",
         "Yes",
         "Sat",
         "Dinner",
         5
        ],
        [
         11.59,
         1.5,
         "Male",
         "Yes",
         "Sat",
         "Dinner",
         2
        ],
        [
         7.74,
         1.44,
         "Male",
         "Yes",
         "Sat",
         "Dinner",
         2
        ],
        [
         30.14,
         3.09,
         "Female",
         "Yes",
         "Sat",
         "Dinner",
         4
        ],
        [
         12.16,
         2.2,
         "Male",
         "Yes",
         "Fri",
         "Lunch",
         2
        ],
        [
         13.42,
         3.48,
         "Female",
         "Yes",
         "Fri",
         "Lunch",
         2
        ],
        [
         8.58,
         1.92,
         "Male",
         "Yes",
         "Fri",
         "Lunch",
         1
        ],
        [
         15.98,
         3.0,
         "Female",
         "No",
         "Fri",
         "Lunch",
         3
        ],
        [
         13.42,
         1.58,
         "Male",
         "Yes",
         "Fri",
         "Lunch",
         2
        ],
        [
         16.27,
         2.5,
         "Female",
         "Yes",
         "Fri",
         "Lunch",
         2
        ],
        [
         10.09,
         2.0,
         "Female",
         "Yes",
         "Fri",
         "Lunch",
         2
        ],
        [
         20.45,
         3.0,
         "Male",
         "No",
         "Sat",
         "Dinner",
         4
        ],
        [
         13.28,
         2.72,
         "Male",
         "No",
         "Sat",
         "Dinner",
         2
        ],
        [
         22.12,
         2.88,
         "Female",
         "Yes",
         "Sat",
         "Dinner",
         2
        ],
        [
         24.01,
         2.0,
         "Male",
         "Yes",
         "Sat",
         "Dinner",
         4
        ],
        [
         15.69,
         3.0,
         "Male",
         "Yes",
         "Sat",
         "Dinner",
         3
        ],
        [
         11.61,
         3.39,
         "Male",
         "No",
         "Sat",
         "Dinner",
         2
        ],
        [
         10.77,
         1.47,
         "Male",
         "No",
         "Sat",
         "Dinner",
         2
        ],
        [
         15.53,
         3.0,
         "Male",
         "Yes",
         "Sat",
         "Dinner",
         2
        ],
        [
         10.07,
         1.25,
         "Male",
         "No",
         "Sat",
         "Dinner",
         2
        ],
        [
         12.6,
         1.0,
         "Male",
         "Yes",
         "Sat",
         "Dinner",
         2
        ],
        [
         32.83,
         1.17,
         "Male",
         "Yes",
         "Sat",
         "Dinner",
         2
        ],
        [
         35.83,
         4.67,
         "Female",
         "No",
         "Sat",
         "Dinner",
         3
        ],
        [
         29.03,
         5.92,
         "Male",
         "No",
         "Sat",
         "Dinner",
         3
        ],
        [
         27.18,
         2.0,
         "Female",
         "Yes",
         "Sat",
         "Dinner",
         2
        ],
        [
         22.67,
         2.0,
         "Male",
         "Yes",
         "Sat",
         "Dinner",
         2
        ],
        [
         17.82,
         1.75,
         "Male",
         "No",
         "Sat",
         "Dinner",
         2
        ],
        [
         18.78,
         3.0,
         "Female",
         "No",
         "Thur",
         "Dinner",
         2
        ]
       ],
       "datasetInfos": [],
       "dbfsResultPath": null,
       "isJsonSchema": true,
       "metadata": {},
       "overflow": false,
       "plotOptions": {
        "customPlotOptions": {},
        "displayType": "table",
        "pivotAggregation": null,
        "pivotColumns": null,
        "xColumns": null,
        "yColumns": null
       },
       "removedWidgets": [],
       "schema": [
        {
         "metadata": "{}",
         "name": "total_bill",
         "type": "\"double\""
        },
        {
         "metadata": "{}",
         "name": "tip",
         "type": "\"double\""
        },
        {
         "metadata": "{}",
         "name": "sex",
         "type": "\"string\""
        },
        {
         "metadata": "{}",
         "name": "smoker",
         "type": "\"string\""
        },
        {
         "metadata": "{}",
         "name": "day",
         "type": "\"string\""
        },
        {
         "metadata": "{}",
         "name": "time",
         "type": "\"string\""
        },
        {
         "metadata": "{}",
         "name": "size",
         "type": "\"integer\""
        }
       ],
       "type": "table"
      }
     },
     "output_type": "display_data"
    }
   ],
   "source": [
    "# CSV options\n",
    "infer_schema = \"true\"\n",
    "first_row_is_header = \"true\"\n",
    "delimiter = \",\"\n",
    "\n",
    "# The applied options are for CSV files. For other file types, these will be ignored.\n",
    "df = spark.read.format(file_type) \\\n",
    "  .option(\"inferSchema\", infer_schema) \\\n",
    "  .option(\"header\", first_row_is_header) \\\n",
    "  .option(\"sep\", delimiter) \\\n",
    "  .load(file_location)\n",
    "\n",
    "display(df)"
   ]
  },
  {
   "cell_type": "code",
   "execution_count": 0,
   "metadata": {
    "application/vnd.databricks.v1+cell": {
     "cellMetadata": {
      "byteLimit": 2048000,
      "rowLimit": 10000
     },
     "inputWidgets": {},
     "nuid": "7528dfd5-0e2e-4d7a-a4d4-845ba650d7f7",
     "showTitle": false,
     "title": ""
    }
   },
   "outputs": [
    {
     "output_type": "stream",
     "name": "stdout",
     "output_type": "stream",
     "text": [
      "root\n |-- total_bill: double (nullable = true)\n |-- tip: double (nullable = true)\n |-- sex: string (nullable = true)\n |-- smoker: string (nullable = true)\n |-- day: string (nullable = true)\n |-- time: string (nullable = true)\n |-- size: integer (nullable = true)\n\n"
     ]
    }
   ],
   "source": [
    "# Print schema\n",
    "df.printSchema()"
   ]
  },
  {
   "cell_type": "code",
   "execution_count": 0,
   "metadata": {
    "application/vnd.databricks.v1+cell": {
     "cellMetadata": {
      "byteLimit": 2048000,
      "rowLimit": 10000
     },
     "inputWidgets": {},
     "nuid": "b033e1b9-c674-45fd-8fb7-c75e5f912a6f",
     "showTitle": false,
     "title": ""
    }
   },
   "outputs": [
    {
     "output_type": "stream",
     "name": "stdout",
     "output_type": "stream",
     "text": [
      "Out[4]: ['total_bill', 'tip', 'sex', 'smoker', 'day', 'time', 'size']"
     ]
    }
   ],
   "source": [
    "#Print Columns\n",
    "df.columns"
   ]
  },
  {
   "cell_type": "code",
   "execution_count": 0,
   "metadata": {
    "application/vnd.databricks.v1+cell": {
     "cellMetadata": {
      "byteLimit": 2048000,
      "rowLimit": 10000
     },
     "inputWidgets": {},
     "nuid": "d08efa1e-f263-406b-9c28-8aff105f1ae8",
     "showTitle": false,
     "title": ""
    }
   },
   "outputs": [],
   "source": [
    "# Handling Categorical Features with string indexer\n",
    "from pyspark.ml.feature import StringIndexer"
   ]
  },
  {
   "cell_type": "code",
   "execution_count": 0,
   "metadata": {
    "application/vnd.databricks.v1+cell": {
     "cellMetadata": {
      "byteLimit": 2048000,
      "rowLimit": 10000
     },
     "inputWidgets": {},
     "nuid": "b120ff4d-2ff6-4f4d-b7ee-49cde1de4fb3",
     "showTitle": false,
     "title": ""
    }
   },
   "outputs": [
    {
     "output_type": "stream",
     "name": "stdout",
     "output_type": "stream",
     "text": [
      "+----------+----+------+------+---+------+----+-----------+--------------+-----------+----------+\n|total_bill| tip|   sex|smoker|day|  time|size|sex_indexed|smoker_indexed|day_indexed|time_index|\n+----------+----+------+------+---+------+----+-----------+--------------+-----------+----------+\n|     16.99|1.01|Female|    No|Sun|Dinner|   2|        1.0|           0.0|        1.0|       0.0|\n|     10.34|1.66|  Male|    No|Sun|Dinner|   3|        0.0|           0.0|        1.0|       0.0|\n|     21.01| 3.5|  Male|    No|Sun|Dinner|   3|        0.0|           0.0|        1.0|       0.0|\n|     23.68|3.31|  Male|    No|Sun|Dinner|   2|        0.0|           0.0|        1.0|       0.0|\n|     24.59|3.61|Female|    No|Sun|Dinner|   4|        1.0|           0.0|        1.0|       0.0|\n|     25.29|4.71|  Male|    No|Sun|Dinner|   4|        0.0|           0.0|        1.0|       0.0|\n|      8.77| 2.0|  Male|    No|Sun|Dinner|   2|        0.0|           0.0|        1.0|       0.0|\n|     26.88|3.12|  Male|    No|Sun|Dinner|   4|        0.0|           0.0|        1.0|       0.0|\n|     15.04|1.96|  Male|    No|Sun|Dinner|   2|        0.0|           0.0|        1.0|       0.0|\n|     14.78|3.23|  Male|    No|Sun|Dinner|   2|        0.0|           0.0|        1.0|       0.0|\n|     10.27|1.71|  Male|    No|Sun|Dinner|   2|        0.0|           0.0|        1.0|       0.0|\n|     35.26| 5.0|Female|    No|Sun|Dinner|   4|        1.0|           0.0|        1.0|       0.0|\n|     15.42|1.57|  Male|    No|Sun|Dinner|   2|        0.0|           0.0|        1.0|       0.0|\n|     18.43| 3.0|  Male|    No|Sun|Dinner|   4|        0.0|           0.0|        1.0|       0.0|\n|     14.83|3.02|Female|    No|Sun|Dinner|   2|        1.0|           0.0|        1.0|       0.0|\n|     21.58|3.92|  Male|    No|Sun|Dinner|   2|        0.0|           0.0|        1.0|       0.0|\n|     10.33|1.67|Female|    No|Sun|Dinner|   3|        1.0|           0.0|        1.0|       0.0|\n|     16.29|3.71|  Male|    No|Sun|Dinner|   3|        0.0|           0.0|        1.0|       0.0|\n|     16.97| 3.5|Female|    No|Sun|Dinner|   3|        1.0|           0.0|        1.0|       0.0|\n|     20.65|3.35|  Male|    No|Sat|Dinner|   3|        0.0|           0.0|        0.0|       0.0|\n+----------+----+------+------+---+------+----+-----------+--------------+-----------+----------+\nonly showing top 20 rows\n\n"
     ]
    }
   ],
   "source": [
    "indexer = StringIndexer(inputCols=[\"sex\",\"smoker\",\"day\",\"time\"],outputCols=[\"sex_indexed\",\"smoker_indexed\",\"day_indexed\",\n",
    "                                                                  \"time_index\"])\n",
    "df_r = indexer.fit(df).transform(df)\n",
    "\n",
    "df_r.show()"
   ]
  },
  {
   "cell_type": "code",
   "execution_count": 0,
   "metadata": {
    "application/vnd.databricks.v1+cell": {
     "cellMetadata": {
      "byteLimit": 2048000,
      "rowLimit": 10000
     },
     "inputWidgets": {},
     "nuid": "13f607a8-845a-4002-b78b-7e1d44de4974",
     "showTitle": false,
     "title": ""
    }
   },
   "outputs": [],
   "source": [
    "# Creating our independent variable df\n",
    "from pyspark.ml.feature import VectorAssembler\n",
    "\n",
    "featureassembler = VectorAssembler(inputCols=['tip','size','sex_indexed','smoker_indexed','day_indexed',\n",
    "                          'time_index'],outputCol=\"Independent Features\")\n",
    "\n",
    "output = featureassembler.transform(df_r)"
   ]
  },
  {
   "cell_type": "code",
   "execution_count": 0,
   "metadata": {
    "application/vnd.databricks.v1+cell": {
     "cellMetadata": {
      "byteLimit": 2048000,
      "rowLimit": 10000
     },
     "inputWidgets": {},
     "nuid": "ab4fc447-48d8-40fb-8fea-395c86e0a147",
     "showTitle": false,
     "title": ""
    }
   },
   "outputs": [
    {
     "output_type": "stream",
     "name": "stdout",
     "output_type": "stream",
     "text": [
      "+--------------------+\n|Independent Features|\n+--------------------+\n|[1.01,2.0,1.0,0.0...|\n|[1.66,3.0,0.0,0.0...|\n|[3.5,3.0,0.0,0.0,...|\n|[3.31,2.0,0.0,0.0...|\n|[3.61,4.0,1.0,0.0...|\n|[4.71,4.0,0.0,0.0...|\n|[2.0,2.0,0.0,0.0,...|\n|[3.12,4.0,0.0,0.0...|\n|[1.96,2.0,0.0,0.0...|\n|[3.23,2.0,0.0,0.0...|\n|[1.71,2.0,0.0,0.0...|\n|[5.0,4.0,1.0,0.0,...|\n|[1.57,2.0,0.0,0.0...|\n|[3.0,4.0,0.0,0.0,...|\n|[3.02,2.0,1.0,0.0...|\n|[3.92,2.0,0.0,0.0...|\n|[1.67,3.0,1.0,0.0...|\n|[3.71,3.0,0.0,0.0...|\n|[3.5,3.0,1.0,0.0,...|\n|(6,[0,1],[3.35,3.0])|\n+--------------------+\nonly showing top 20 rows\n\n"
     ]
    }
   ],
   "source": [
    "output.select('Independent Features').show()"
   ]
  },
  {
   "cell_type": "code",
   "execution_count": 0,
   "metadata": {
    "application/vnd.databricks.v1+cell": {
     "cellMetadata": {
      "byteLimit": 2048000,
      "rowLimit": 10000
     },
     "inputWidgets": {},
     "nuid": "997a6cc6-7013-4549-bce5-b0bef1cad19c",
     "showTitle": false,
     "title": ""
    }
   },
   "outputs": [
    {
     "output_type": "stream",
     "name": "stdout",
     "output_type": "stream",
     "text": [
      "+----------+----+------+------+---+------+----+-----------+--------------+-----------+----------+--------------------+\n|total_bill| tip|   sex|smoker|day|  time|size|sex_indexed|smoker_indexed|day_indexed|time_index|Independent Features|\n+----------+----+------+------+---+------+----+-----------+--------------+-----------+----------+--------------------+\n|     16.99|1.01|Female|    No|Sun|Dinner|   2|        1.0|           0.0|        1.0|       0.0|[1.01,2.0,1.0,0.0...|\n|     10.34|1.66|  Male|    No|Sun|Dinner|   3|        0.0|           0.0|        1.0|       0.0|[1.66,3.0,0.0,0.0...|\n|     21.01| 3.5|  Male|    No|Sun|Dinner|   3|        0.0|           0.0|        1.0|       0.0|[3.5,3.0,0.0,0.0,...|\n|     23.68|3.31|  Male|    No|Sun|Dinner|   2|        0.0|           0.0|        1.0|       0.0|[3.31,2.0,0.0,0.0...|\n|     24.59|3.61|Female|    No|Sun|Dinner|   4|        1.0|           0.0|        1.0|       0.0|[3.61,4.0,1.0,0.0...|\n|     25.29|4.71|  Male|    No|Sun|Dinner|   4|        0.0|           0.0|        1.0|       0.0|[4.71,4.0,0.0,0.0...|\n|      8.77| 2.0|  Male|    No|Sun|Dinner|   2|        0.0|           0.0|        1.0|       0.0|[2.0,2.0,0.0,0.0,...|\n|     26.88|3.12|  Male|    No|Sun|Dinner|   4|        0.0|           0.0|        1.0|       0.0|[3.12,4.0,0.0,0.0...|\n|     15.04|1.96|  Male|    No|Sun|Dinner|   2|        0.0|           0.0|        1.0|       0.0|[1.96,2.0,0.0,0.0...|\n|     14.78|3.23|  Male|    No|Sun|Dinner|   2|        0.0|           0.0|        1.0|       0.0|[3.23,2.0,0.0,0.0...|\n|     10.27|1.71|  Male|    No|Sun|Dinner|   2|        0.0|           0.0|        1.0|       0.0|[1.71,2.0,0.0,0.0...|\n|     35.26| 5.0|Female|    No|Sun|Dinner|   4|        1.0|           0.0|        1.0|       0.0|[5.0,4.0,1.0,0.0,...|\n|     15.42|1.57|  Male|    No|Sun|Dinner|   2|        0.0|           0.0|        1.0|       0.0|[1.57,2.0,0.0,0.0...|\n|     18.43| 3.0|  Male|    No|Sun|Dinner|   4|        0.0|           0.0|        1.0|       0.0|[3.0,4.0,0.0,0.0,...|\n|     14.83|3.02|Female|    No|Sun|Dinner|   2|        1.0|           0.0|        1.0|       0.0|[3.02,2.0,1.0,0.0...|\n|     21.58|3.92|  Male|    No|Sun|Dinner|   2|        0.0|           0.0|        1.0|       0.0|[3.92,2.0,0.0,0.0...|\n|     10.33|1.67|Female|    No|Sun|Dinner|   3|        1.0|           0.0|        1.0|       0.0|[1.67,3.0,1.0,0.0...|\n|     16.29|3.71|  Male|    No|Sun|Dinner|   3|        0.0|           0.0|        1.0|       0.0|[3.71,3.0,0.0,0.0...|\n|     16.97| 3.5|Female|    No|Sun|Dinner|   3|        1.0|           0.0|        1.0|       0.0|[3.5,3.0,1.0,0.0,...|\n|     20.65|3.35|  Male|    No|Sat|Dinner|   3|        0.0|           0.0|        0.0|       0.0|(6,[0,1],[3.35,3.0])|\n+----------+----+------+------+---+------+----+-----------+--------------+-----------+----------+--------------------+\nonly showing top 20 rows\n\n"
     ]
    }
   ],
   "source": [
    "output.show()"
   ]
  },
  {
   "cell_type": "code",
   "execution_count": 0,
   "metadata": {
    "application/vnd.databricks.v1+cell": {
     "cellMetadata": {
      "byteLimit": 2048000,
      "rowLimit": 10000
     },
     "inputWidgets": {},
     "nuid": "d69b7d9e-308f-415e-9c55-21b1e3e1d3de",
     "showTitle": false,
     "title": ""
    }
   },
   "outputs": [],
   "source": [
    "# Crating our final dataset\n",
    "final_df = output.select(\"Independent Features\",\"total_bill\")"
   ]
  },
  {
   "cell_type": "code",
   "execution_count": 0,
   "metadata": {
    "application/vnd.databricks.v1+cell": {
     "cellMetadata": {
      "byteLimit": 2048000,
      "rowLimit": 10000
     },
     "inputWidgets": {},
     "nuid": "3964bac0-bd0d-4a00-866d-ce532fab286b",
     "showTitle": false,
     "title": ""
    }
   },
   "outputs": [
    {
     "output_type": "stream",
     "name": "stdout",
     "output_type": "stream",
     "text": [
      "+--------------------+----------+\n|Independent Features|total_bill|\n+--------------------+----------+\n|[1.01,2.0,1.0,0.0...|     16.99|\n|[1.66,3.0,0.0,0.0...|     10.34|\n|[3.5,3.0,0.0,0.0,...|     21.01|\n|[3.31,2.0,0.0,0.0...|     23.68|\n|[3.61,4.0,1.0,0.0...|     24.59|\n|[4.71,4.0,0.0,0.0...|     25.29|\n|[2.0,2.0,0.0,0.0,...|      8.77|\n|[3.12,4.0,0.0,0.0...|     26.88|\n|[1.96,2.0,0.0,0.0...|     15.04|\n|[3.23,2.0,0.0,0.0...|     14.78|\n|[1.71,2.0,0.0,0.0...|     10.27|\n|[5.0,4.0,1.0,0.0,...|     35.26|\n|[1.57,2.0,0.0,0.0...|     15.42|\n|[3.0,4.0,0.0,0.0,...|     18.43|\n|[3.02,2.0,1.0,0.0...|     14.83|\n|[3.92,2.0,0.0,0.0...|     21.58|\n|[1.67,3.0,1.0,0.0...|     10.33|\n|[3.71,3.0,0.0,0.0...|     16.29|\n|[3.5,3.0,1.0,0.0,...|     16.97|\n|(6,[0,1],[3.35,3.0])|     20.65|\n+--------------------+----------+\nonly showing top 20 rows\n\n"
     ]
    }
   ],
   "source": [
    "final_df.show()"
   ]
  },
  {
   "cell_type": "code",
   "execution_count": 0,
   "metadata": {
    "application/vnd.databricks.v1+cell": {
     "cellMetadata": {
      "byteLimit": 2048000,
      "rowLimit": 10000
     },
     "inputWidgets": {},
     "nuid": "b26a9e17-243d-430f-835b-e9184aadbd02",
     "showTitle": false,
     "title": ""
    }
   },
   "outputs": [],
   "source": [
    "# Import linear regression model from pyspark\n",
    "from pyspark.ml.regression import LinearRegression"
   ]
  },
  {
   "cell_type": "code",
   "execution_count": 0,
   "metadata": {
    "application/vnd.databricks.v1+cell": {
     "cellMetadata": {
      "byteLimit": 2048000,
      "rowLimit": 10000
     },
     "inputWidgets": {},
     "nuid": "f8ce64b2-d44b-4fcd-9715-a00fe38283d9",
     "showTitle": false,
     "title": ""
    }
   },
   "outputs": [],
   "source": [
    "#Split the dataset\n",
    "train_df, test_df = final_df.randomSplit([0.75,0.25])\n",
    "regressor = LinearRegression(featuresCol='Independent Features', labelCol='total_bill')\n",
    "regressor = regressor.fit(train_df)"
   ]
  },
  {
   "cell_type": "code",
   "execution_count": 0,
   "metadata": {
    "application/vnd.databricks.v1+cell": {
     "cellMetadata": {
      "byteLimit": 2048000,
      "rowLimit": 10000
     },
     "inputWidgets": {},
     "nuid": "020aa587-96ee-4ed0-b6ef-f0a0308bedaa",
     "showTitle": false,
     "title": ""
    }
   },
   "outputs": [
    {
     "output_type": "stream",
     "name": "stdout",
     "output_type": "stream",
     "text": [
      "Out[21]: DenseVector([3.3311, 3.4363, -1.3528, 3.3065, -0.4602, -1.4156])"
     ]
    }
   ],
   "source": [
    "regressor.coefficients"
   ]
  },
  {
   "cell_type": "code",
   "execution_count": 0,
   "metadata": {
    "application/vnd.databricks.v1+cell": {
     "cellMetadata": {
      "byteLimit": 2048000,
      "rowLimit": 10000
     },
     "inputWidgets": {},
     "nuid": "744e908e-e33c-4459-9e67-02b623ff83d3",
     "showTitle": false,
     "title": ""
    }
   },
   "outputs": [
    {
     "output_type": "stream",
     "name": "stdout",
     "output_type": "stream",
     "text": [
      "Out[22]: 1.2273492445283307"
     ]
    }
   ],
   "source": [
    "regressor.intercept"
   ]
  },
  {
   "cell_type": "code",
   "execution_count": 0,
   "metadata": {
    "application/vnd.databricks.v1+cell": {
     "cellMetadata": {
      "byteLimit": 2048000,
      "rowLimit": 10000
     },
     "inputWidgets": {},
     "nuid": "7786225f-fcd2-4c25-8d27-9515625bbe3e",
     "showTitle": false,
     "title": ""
    }
   },
   "outputs": [],
   "source": [
    "# Predict results\n",
    "pred_results = regressor.evaluate(test_df)"
   ]
  },
  {
   "cell_type": "code",
   "execution_count": 0,
   "metadata": {
    "application/vnd.databricks.v1+cell": {
     "cellMetadata": {
      "byteLimit": 2048000,
      "rowLimit": 10000
     },
     "inputWidgets": {},
     "nuid": "b19f4baf-4061-4d94-9bde-d8eac00166c2",
     "showTitle": false,
     "title": ""
    }
   },
   "outputs": [
    {
     "output_type": "stream",
     "name": "stdout",
     "output_type": "stream",
     "text": [
      "+--------------------+----------+------------------+\n|Independent Features|total_bill|        prediction|\n+--------------------+----------+------------------+\n|(6,[0,1],[1.25,2.0])|     10.07|12.263739064152254|\n|(6,[0,1],[1.25,2.0])|     10.51|12.263739064152254|\n|(6,[0,1],[1.47,2.0])|     10.77|12.996577067251664|\n|(6,[0,1],[2.01,2.0])|     20.23| 14.79536125667749|\n|(6,[0,1],[2.24,3.0])|     16.04|18.997778842742786|\n|(6,[0,1],[2.31,3.0])|     18.69| 19.23095457100169|\n|(6,[0,1],[2.64,3.0])|     17.59|20.330211575650804|\n|(6,[0,1],[3.27,2.0])|     17.78| 18.99252436533775|\n|(6,[0,1],[3.35,3.0])|     20.65| 22.69527967656254|\n|(6,[0,1],[3.76,2.0])|     18.24|20.624754463150072|\n|(6,[0,1],[4.08,2.0])|     17.92| 21.69070064947649|\n| (6,[0,1],[4.3,2.0])|      21.7|  22.4235386525759|\n|(6,[0,1],[7.58,4.0])|     39.42| 40.22202459170803|\n|[1.01,2.0,1.0,0.0...|     16.99| 9.651322757622513|\n|[1.48,2.0,0.0,0.0...|      8.52|10.693892454722828|\n|[1.5,2.0,0.0,0.0,...|     19.08| 10.76051409136823|\n|[1.57,2.0,0.0,0.0...|     15.42|12.869481948800502|\n|[1.63,2.0,1.0,0.0...|     11.87|  9.84080136445657|\n|[1.98,2.0,0.0,1.0...|     11.02|18.001897335611194|\n|[2.0,2.0,0.0,0.0,...|      8.77|14.301847136676624|\n+--------------------+----------+------------------+\nonly showing top 20 rows\n\n"
     ]
    }
   ],
   "source": [
    "# Final comparison\n",
    "pred_results.predictions.show()"
   ]
  },
  {
   "cell_type": "code",
   "execution_count": 0,
   "metadata": {
    "application/vnd.databricks.v1+cell": {
     "cellMetadata": {
      "byteLimit": 2048000,
      "rowLimit": 10000
     },
     "inputWidgets": {},
     "nuid": "22f42d17-df68-4761-8d88-33b2bfff5eb2",
     "showTitle": false,
     "title": ""
    }
   },
   "outputs": [
    {
     "output_type": "stream",
     "name": "stdout",
     "output_type": "stream",
     "text": [
      "Out[25]: (0.31258155037694413, 4.267348106352912, 33.452213138619264)"
     ]
    }
   ],
   "source": [
    "# Performance Metrics\n",
    "pred_results.r2,pred_results.meanAbsoluteError,pred_results.meanSquaredError"
   ]
  }
 ],
 "metadata": {
  "application/vnd.databricks.v1+notebook": {
   "dashboards": [],
   "language": "python",
   "notebookMetadata": {
    "pythonIndentUnit": 4
   },
   "notebookName": "DataBricks PySpark Notebook",
   "widgets": {}
  }
 },
 "nbformat": 4,
 "nbformat_minor": 0
}
