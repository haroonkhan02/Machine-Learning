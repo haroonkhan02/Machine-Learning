{
  "nbformat": 4,
  "nbformat_minor": 0,
  "metadata": {
    "colab": {
      "provenance": []
    },
    "kernelspec": {
      "name": "python3",
      "display_name": "Python 3"
    },
    "language_info": {
      "name": "python"
    }
  },
  "cells": [
    {
      "cell_type": "markdown",
      "source": [
        "# ***Performing K-fold Cross Validation on IRIS Dataset***"
      ],
      "metadata": {
        "id": "toj2COifokqa"
      }
    },
    {
      "cell_type": "markdown",
      "source": [
        "### *Importing the Models and libraries for the project*"
      ],
      "metadata": {
        "id": "vEcWgS1xmd2A"
      }
    },
    {
      "cell_type": "code",
      "execution_count": 14,
      "metadata": {
        "id": "PdZ47-qHlaNa"
      },
      "outputs": [],
      "source": [
        "from sklearn.model_selection import KFold\n",
        "from sklearn.linear_model import LogisticRegression\n",
        "from sklearn.datasets import load_iris\n",
        "from sklearn.metrics import accuracy_score\n",
        "import numpy as np"
      ]
    },
    {
      "cell_type": "markdown",
      "source": [
        "### *Loading the IRIS Dataset and splitting into Features (X) and Target Labels (y)*"
      ],
      "metadata": {
        "id": "Y_uT2H8ymtA9"
      }
    },
    {
      "cell_type": "code",
      "source": [
        "data = load_iris()\n",
        "X, y = data.data, data.target"
      ],
      "metadata": {
        "id": "RiLbovRMmaKQ"
      },
      "execution_count": 15,
      "outputs": []
    },
    {
      "cell_type": "markdown",
      "source": [
        "### Define K-Fold Cross Validation (K=5)\n",
        "\n",
        "*   n_splits=5: The dataset is split into 5 parts (folds)\n",
        "*   shuffle=True: Randomly shuffles the data before splitting\n",
        "*   random_state=42: Ensures reproducibility"
      ],
      "metadata": {
        "id": "TVd-Yqa5m5n7"
      }
    },
    {
      "cell_type": "code",
      "source": [
        "kf = KFold(n_splits=5, shuffle=True, random_state=42)"
      ],
      "metadata": {
        "id": "l0Cv9We3mNwC"
      },
      "execution_count": 16,
      "outputs": []
    },
    {
      "cell_type": "markdown",
      "source": [
        "### *Logistic Regression Model*"
      ],
      "metadata": {
        "id": "pjKEk3ATm6E9"
      }
    },
    {
      "cell_type": "code",
      "source": [
        "model = LogisticRegression()"
      ],
      "metadata": {
        "id": "0KB9wZj1mN2r"
      },
      "execution_count": 17,
      "outputs": []
    },
    {
      "cell_type": "markdown",
      "source": [
        "### *Perform K-Fold Cross Validation*"
      ],
      "metadata": {
        "id": "dWX9IXc1m6ez"
      }
    },
    {
      "cell_type": "code",
      "source": [
        "accuracies = []\n",
        "for train_index, test_index in kf.split(X):\n",
        "    X_train, X_test = X[train_index], X[test_index]  # Splitting data into training and testing\n",
        "    y_train, y_test = y[train_index], y[test_index]  # Splitting target labels\n",
        "\n",
        "    model.fit(X_train, y_train)  # Train the model on training data\n",
        "    predictions = model.predict(X_test)  # Make predictions on test data\n",
        "\n",
        "    acc = accuracy_score(y_test, predictions)  # Calculate accuracy for the current fold\n",
        "    accuracies.append(acc)  # Store the accuracy"
      ],
      "metadata": {
        "id": "9W4mI2XkmN-I"
      },
      "execution_count": 18,
      "outputs": []
    },
    {
      "cell_type": "markdown",
      "source": [
        "### *Computing Accuracy & Standard Deviation*"
      ],
      "metadata": {
        "id": "V3bZ7Autm7JW"
      }
    },
    {
      "cell_type": "code",
      "source": [
        "average_accuracy = np.mean(accuracies)"
      ],
      "metadata": {
        "id": "RiTfwfGkmOGY"
      },
      "execution_count": 19,
      "outputs": []
    },
    {
      "cell_type": "code",
      "source": [
        "std_deviation = np.std(accuracies)"
      ],
      "metadata": {
        "id": "C-CRfmN3oX3Z"
      },
      "execution_count": 20,
      "outputs": []
    },
    {
      "cell_type": "markdown",
      "source": [
        "### *Results*"
      ],
      "metadata": {
        "id": "Vvau7pnPm7tH"
      }
    },
    {
      "cell_type": "code",
      "source": [
        "print(f\"Accuracy scores for each fold: {accuracies}\\n\")\n",
        "print(f\"Average Accuracy: {average_accuracy:.4f}\\n\")\n",
        "print(f\"Standard Deviation: {std_deviation:.4f}\\n\")"
      ],
      "metadata": {
        "colab": {
          "base_uri": "https://localhost:8080/"
        },
        "id": "qlBOGZIvlxZd",
        "outputId": "433328d3-c705-43fe-bf33-b3b6d2bf303c"
      },
      "execution_count": 21,
      "outputs": [
        {
          "output_type": "stream",
          "name": "stdout",
          "text": [
            "Accuracy scores for each fold: [1.0, 1.0, 0.9333333333333333, 0.9666666666666667, 0.9666666666666667]\n",
            "\n",
            "Average Accuracy: 0.9733\n",
            "\n",
            "Standard Deviation: 0.0249\n",
            "\n"
          ]
        }
      ]
    },
    {
      "cell_type": "markdown",
      "source": [
        "<div style=\"text-align: justify;\">\n",
        "<i><b>As we can see that using k-fold cross validation on IRIS dataset has yeilded significant results with over 97% accuracy. Our standard deviation is around 2% which means we are at the low bias and low variance state which is optimal for our Model.\n",
        "</b></i></div>"
      ],
      "metadata": {
        "id": "GZaXTwoZpHXy"
      }
    }
  ]
}